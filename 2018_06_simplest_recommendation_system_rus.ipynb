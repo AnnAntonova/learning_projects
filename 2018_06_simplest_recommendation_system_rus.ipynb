{
 "cells": [
  {
   "cell_type": "markdown",
   "metadata": {},
   "source": [
    "# Простейшая рекомендательная система"
   ]
  },
  {
   "cell_type": "markdown",
   "metadata": {},
   "source": [
    "__Задача:__ добавить ранжирование товаров в блок \"Смотрели ранее\" небольшого интернет-магазина. В блоке надо показывать не последние просмотренные пользователем товары, а те товары из просмотренных, которые он наиболее вероятно купит. \n",
    "\n",
    "__Данные:__ выборки с пользовательскими сессиями - id просмотренных и id купленных товаров.\n",
    "\n",
    "__Решение:__ для сравнения строятся 2 алгоритма, которые выбирают товары для рекомендаций на основе:\n",
    "\n",
    "- ранжирования просмотренных пользователем товаров по частоте просмотров всеми пользователями магазина;\n",
    "\n",
    "- ранжирования просмотренных пользователем товаров по частоте покупок всеми пользователями магазина.\n",
    "\n",
    "__Внутренняя оценка качества для отбора алгоритма:__ \n",
    "\n",
    "$$Precision@k = \\frac{КупленоИзРекомендованного}{КоличествоРекомендаций}$$\n",
    "AveragePrecision@k — усреднённый по сессиям Precision@k\n",
    "\n",
    "$$Recall@k = \\frac{КупленоИзРекомендованного}{КоличествоКупленныхТоваров}$$\n",
    "AverageRecall@k — усреднённый по сессиям Recall@k\n",
    "\n",
    "__Рекомендуемая внешняя оценка качества решения:__ по количеству покупок в сравнении с прошлым решением в ходе А/В теста."
   ]
  },
  {
   "cell_type": "markdown",
   "metadata": {},
   "source": [
    "### загрузка библиотек"
   ]
  },
  {
   "cell_type": "code",
   "execution_count": 1,
   "metadata": {},
   "outputs": [],
   "source": [
    "import numpy as np\n",
    "import pandas as pd\n",
    "import seaborn as sns\n",
    "import matplotlib.pyplot as plt\n",
    "%matplotlib inline"
   ]
  },
  {
   "cell_type": "markdown",
   "metadata": {},
   "source": [
    "### загрузка данных, разделенных на 2 выборки"
   ]
  },
  {
   "cell_type": "code",
   "execution_count": 89,
   "metadata": {},
   "outputs": [
    {
     "data": {
      "text/html": [
       "<div>\n",
       "<style scoped>\n",
       "    .dataframe tbody tr th:only-of-type {\n",
       "        vertical-align: middle;\n",
       "    }\n",
       "\n",
       "    .dataframe tbody tr th {\n",
       "        vertical-align: top;\n",
       "    }\n",
       "\n",
       "    .dataframe thead th {\n",
       "        text-align: right;\n",
       "    }\n",
       "</style>\n",
       "<table border=\"1\" class=\"dataframe\">\n",
       "  <thead>\n",
       "    <tr style=\"text-align: right;\">\n",
       "      <th></th>\n",
       "      <th>0</th>\n",
       "    </tr>\n",
       "  </thead>\n",
       "  <tbody>\n",
       "    <tr>\n",
       "      <th>0</th>\n",
       "      <td>0,1,2,3,4,5;</td>\n",
       "    </tr>\n",
       "    <tr>\n",
       "      <th>1</th>\n",
       "      <td>9,10,11,9,11,12,9,11;</td>\n",
       "    </tr>\n",
       "    <tr>\n",
       "      <th>2</th>\n",
       "      <td>16,17,18,19,20,21;</td>\n",
       "    </tr>\n",
       "    <tr>\n",
       "      <th>3</th>\n",
       "      <td>24,25,26,27,24;</td>\n",
       "    </tr>\n",
       "    <tr>\n",
       "      <th>4</th>\n",
       "      <td>34,35,36,34,37,35,36,37,38,39,38,39;</td>\n",
       "    </tr>\n",
       "  </tbody>\n",
       "</table>\n",
       "</div>"
      ],
      "text/plain": [
       "                                      0\n",
       "0                          0,1,2,3,4,5;\n",
       "1                 9,10,11,9,11,12,9,11;\n",
       "2                    16,17,18,19,20,21;\n",
       "3                       24,25,26,27,24;\n",
       "4  34,35,36,34,37,35,36,37,38,39,38,39;"
      ]
     },
     "execution_count": 89,
     "metadata": {},
     "output_type": "execute_result"
    }
   ],
   "source": [
    "df_train = pd.read_table('sessions_train.txt', header = None) # для обучения модели\n",
    "df_train.head()"
   ]
  },
  {
   "cell_type": "code",
   "execution_count": 90,
   "metadata": {},
   "outputs": [
    {
     "data": {
      "text/plain": [
       "(50000, 1)"
      ]
     },
     "execution_count": 90,
     "metadata": {},
     "output_type": "execute_result"
    }
   ],
   "source": [
    "df_train.shape"
   ]
  },
  {
   "cell_type": "code",
   "execution_count": 91,
   "metadata": {},
   "outputs": [
    {
     "data": {
      "text/html": [
       "<div>\n",
       "<style scoped>\n",
       "    .dataframe tbody tr th:only-of-type {\n",
       "        vertical-align: middle;\n",
       "    }\n",
       "\n",
       "    .dataframe tbody tr th {\n",
       "        vertical-align: top;\n",
       "    }\n",
       "\n",
       "    .dataframe thead th {\n",
       "        text-align: right;\n",
       "    }\n",
       "</style>\n",
       "<table border=\"1\" class=\"dataframe\">\n",
       "  <thead>\n",
       "    <tr style=\"text-align: right;\">\n",
       "      <th></th>\n",
       "      <th>0</th>\n",
       "    </tr>\n",
       "  </thead>\n",
       "  <tbody>\n",
       "    <tr>\n",
       "      <th>0</th>\n",
       "      <td>6,7,8;</td>\n",
       "    </tr>\n",
       "    <tr>\n",
       "      <th>1</th>\n",
       "      <td>13,14,15;</td>\n",
       "    </tr>\n",
       "    <tr>\n",
       "      <th>2</th>\n",
       "      <td>22,23;</td>\n",
       "    </tr>\n",
       "    <tr>\n",
       "      <th>3</th>\n",
       "      <td>28,29,30,31,32,33;</td>\n",
       "    </tr>\n",
       "    <tr>\n",
       "      <th>4</th>\n",
       "      <td>40,41;</td>\n",
       "    </tr>\n",
       "  </tbody>\n",
       "</table>\n",
       "</div>"
      ],
      "text/plain": [
       "                    0\n",
       "0              6,7,8;\n",
       "1           13,14,15;\n",
       "2              22,23;\n",
       "3  28,29,30,31,32,33;\n",
       "4              40,41;"
      ]
     },
     "execution_count": 91,
     "metadata": {},
     "output_type": "execute_result"
    }
   ],
   "source": [
    "df_test = pd.read_table('sessions_test.txt', header = None) # для контроля качества модели\n",
    "df_test.head()"
   ]
  },
  {
   "cell_type": "code",
   "execution_count": 92,
   "metadata": {},
   "outputs": [
    {
     "data": {
      "text/plain": [
       "(50000, 1)"
      ]
     },
     "execution_count": 92,
     "metadata": {},
     "output_type": "execute_result"
    }
   ],
   "source": [
    "df_test.shape"
   ]
  },
  {
   "cell_type": "markdown",
   "metadata": {},
   "source": [
    "### разделение id товаров на просмотренные и купленные и первичный анализ"
   ]
  },
  {
   "cell_type": "code",
   "execution_count": 93,
   "metadata": {},
   "outputs": [
    {
     "data": {
      "text/html": [
       "<div>\n",
       "<style scoped>\n",
       "    .dataframe tbody tr th:only-of-type {\n",
       "        vertical-align: middle;\n",
       "    }\n",
       "\n",
       "    .dataframe tbody tr th {\n",
       "        vertical-align: top;\n",
       "    }\n",
       "\n",
       "    .dataframe thead th {\n",
       "        text-align: right;\n",
       "    }\n",
       "</style>\n",
       "<table border=\"1\" class=\"dataframe\">\n",
       "  <thead>\n",
       "    <tr style=\"text-align: right;\">\n",
       "      <th></th>\n",
       "      <th>viewed</th>\n",
       "      <th>bought</th>\n",
       "    </tr>\n",
       "  </thead>\n",
       "  <tbody>\n",
       "    <tr>\n",
       "      <th>0</th>\n",
       "      <td>[0, 1, 2, 3, 4, 5]</td>\n",
       "      <td>[]</td>\n",
       "    </tr>\n",
       "    <tr>\n",
       "      <th>1</th>\n",
       "      <td>[9, 10, 11, 9, 11, 12, 9, 11]</td>\n",
       "      <td>[]</td>\n",
       "    </tr>\n",
       "    <tr>\n",
       "      <th>2</th>\n",
       "      <td>[16, 17, 18, 19, 20, 21]</td>\n",
       "      <td>[]</td>\n",
       "    </tr>\n",
       "    <tr>\n",
       "      <th>3</th>\n",
       "      <td>[24, 25, 26, 27, 24]</td>\n",
       "      <td>[]</td>\n",
       "    </tr>\n",
       "    <tr>\n",
       "      <th>4</th>\n",
       "      <td>[34, 35, 36, 34, 37, 35, 36, 37, 38, 39, 38, 39]</td>\n",
       "      <td>[]</td>\n",
       "    </tr>\n",
       "  </tbody>\n",
       "</table>\n",
       "</div>"
      ],
      "text/plain": [
       "                                             viewed bought\n",
       "0                                [0, 1, 2, 3, 4, 5]     []\n",
       "1                     [9, 10, 11, 9, 11, 12, 9, 11]     []\n",
       "2                          [16, 17, 18, 19, 20, 21]     []\n",
       "3                              [24, 25, 26, 27, 24]     []\n",
       "4  [34, 35, 36, 34, 37, 35, 36, 37, 38, 39, 38, 39]     []"
      ]
     },
     "execution_count": 93,
     "metadata": {},
     "output_type": "execute_result"
    }
   ],
   "source": [
    "df_train['viewed'] = df_train[0].apply(lambda s: s[0:s.find(';')].split(','))\n",
    "df_train['bought'] = df_train[0].apply(lambda s: s[s.find(';')+1:].split(','))\n",
    "df_train.drop(0, axis = 1, inplace = True)\n",
    "df_train.head()"
   ]
  },
  {
   "cell_type": "code",
   "execution_count": 132,
   "metadata": {},
   "outputs": [],
   "source": [
    "id_viewed_train = list(filter(lambda s: s != '', df_train['viewed'].aggregate(sum, axis = 0)))\n",
    "id_bought_train = list(filter(lambda s: s != '', df_train['bought'].aggregate(sum, axis = 0)))\n",
    "id_unique_train = set.union(set(id_viewed_train), set(id_bought_train))"
   ]
  },
  {
   "cell_type": "code",
   "execution_count": 141,
   "metadata": {},
   "outputs": [
    {
     "name": "stdout",
     "output_type": "stream",
     "text": [
      "--- Обучающая выборка ---\n",
      "Всего товаров:  77178\n",
      "Просмотренных:  77064\n",
      "Купленных:  4479\n",
      "Просмотренных и купленных:  4365\n",
      "Просмотренных, но не купленных:  72699\n",
      "Купленных, но не просмотренных:  114\n"
     ]
    }
   ],
   "source": [
    "print('--- Обучающая выборка ---')\n",
    "print('Всего товаров: ', len(id_unique_train))\n",
    "print('Просмотренных: ', len(set(id_viewed_train)))\n",
    "print('Купленных: ', len(set(id_bought_train)))\n",
    "print('Просмотренных и купленных: ', len(set(np.intersect1d(id_viewed_train, id_bought_train))))\n",
    "print('Просмотренных, но не купленных: ', len(set(id_viewed_train)) - len(set(np.intersect1d(id_viewed_train, id_bought_train))))\n",
    "print('Купленных, но не просмотренных: ', len(set(id_bought_train)) - len(set(np.intersect1d(id_viewed_train, id_bought_train))))"
   ]
  },
  {
   "cell_type": "code",
   "execution_count": 95,
   "metadata": {},
   "outputs": [
    {
     "data": {
      "text/html": [
       "<div>\n",
       "<style scoped>\n",
       "    .dataframe tbody tr th:only-of-type {\n",
       "        vertical-align: middle;\n",
       "    }\n",
       "\n",
       "    .dataframe tbody tr th {\n",
       "        vertical-align: top;\n",
       "    }\n",
       "\n",
       "    .dataframe thead th {\n",
       "        text-align: right;\n",
       "    }\n",
       "</style>\n",
       "<table border=\"1\" class=\"dataframe\">\n",
       "  <thead>\n",
       "    <tr style=\"text-align: right;\">\n",
       "      <th></th>\n",
       "      <th>viewed</th>\n",
       "      <th>bought</th>\n",
       "    </tr>\n",
       "  </thead>\n",
       "  <tbody>\n",
       "    <tr>\n",
       "      <th>0</th>\n",
       "      <td>[6, 7, 8]</td>\n",
       "      <td>[]</td>\n",
       "    </tr>\n",
       "    <tr>\n",
       "      <th>1</th>\n",
       "      <td>[13, 14, 15]</td>\n",
       "      <td>[]</td>\n",
       "    </tr>\n",
       "    <tr>\n",
       "      <th>2</th>\n",
       "      <td>[22, 23]</td>\n",
       "      <td>[]</td>\n",
       "    </tr>\n",
       "    <tr>\n",
       "      <th>3</th>\n",
       "      <td>[28, 29, 30, 31, 32, 33]</td>\n",
       "      <td>[]</td>\n",
       "    </tr>\n",
       "    <tr>\n",
       "      <th>4</th>\n",
       "      <td>[40, 41]</td>\n",
       "      <td>[]</td>\n",
       "    </tr>\n",
       "  </tbody>\n",
       "</table>\n",
       "</div>"
      ],
      "text/plain": [
       "                     viewed bought\n",
       "0                 [6, 7, 8]     []\n",
       "1              [13, 14, 15]     []\n",
       "2                  [22, 23]     []\n",
       "3  [28, 29, 30, 31, 32, 33]     []\n",
       "4                  [40, 41]     []"
      ]
     },
     "execution_count": 95,
     "metadata": {},
     "output_type": "execute_result"
    }
   ],
   "source": [
    "df_test['viewed'] = df_test[0].apply(lambda s: s[0:s.find(';')].split(','))\n",
    "df_test['bought'] = df_test[0].apply(lambda s: s[s.find(';')+1:].split(','))\n",
    "df_test.drop(0, axis = 1, inplace = True)\n",
    "df_test.head()"
   ]
  },
  {
   "cell_type": "code",
   "execution_count": 143,
   "metadata": {},
   "outputs": [],
   "source": [
    "id_viewed_test = list(filter(lambda s: s != '', df_test['viewed'].aggregate(sum, axis = 0)))\n",
    "id_bought_test = list(filter(lambda s: s != '', df_test['bought'].aggregate(sum, axis = 0)))\n",
    "id_unique_test = set.union(set(id_viewed_test), set(id_bought_test))"
   ]
  },
  {
   "cell_type": "code",
   "execution_count": 144,
   "metadata": {},
   "outputs": [
    {
     "name": "stdout",
     "output_type": "stream",
     "text": [
      "--- Тестовая выборка ---\n",
      "Всего товаров:  76665\n",
      "Просмотренных:  76518\n",
      "Купленных:  4611\n",
      "Просмотренных и купленных:  4464\n",
      "Просмотренных, но не купленных:  72054\n",
      "Купленных, но не просмотренных:  147\n"
     ]
    }
   ],
   "source": [
    "print('--- Тестовая выборка ---')\n",
    "print('Всего товаров: ', len(id_unique_test))\n",
    "print('Просмотренных: ', len(set(id_viewed_test)))\n",
    "print('Купленных: ', len(set(id_bought_test)))\n",
    "print('Просмотренных и купленных: ', len(set(np.intersect1d(id_viewed_test, id_bought_test))))\n",
    "print('Просмотренных, но не купленных: ', len(set(id_viewed_test)) - len(set(np.intersect1d(id_viewed_test, id_bought_test))))\n",
    "print('Купленных, но не просмотренных: ', len(set(id_bought_test)) - len(set(np.intersect1d(id_viewed_test, id_bought_test))))"
   ]
  },
  {
   "cell_type": "code",
   "execution_count": 145,
   "metadata": {},
   "outputs": [
    {
     "name": "stdout",
     "output_type": "stream",
     "text": [
      "Товаров, которые есть в обеих выборках:  51777\n",
      "Товаров, которые есть только в обучающей выборке:  25401\n",
      "Товаров, которые есть только в тестовой выборке:  24888\n"
     ]
    }
   ],
   "source": [
    "print('Товаров, которые есть в обеих выборках: ', len(id_unique_train ^ id_unique_test))\n",
    "print('Товаров, которые есть только в обучающей выборке: ', len(id_unique_train) - len(id_unique_train ^ id_unique_test))\n",
    "print('Товаров, которые есть только в тестовой выборке: ', len(id_unique_test) - len(id_unique_train ^ id_unique_test))"
   ]
  },
  {
   "cell_type": "markdown",
   "metadata": {},
   "source": [
    "### расчет частотности товаров обучающей выборки по просмотрам и покупкам"
   ]
  },
  {
   "cell_type": "code",
   "execution_count": 148,
   "metadata": {},
   "outputs": [
    {
     "data": {
      "text/html": [
       "<div>\n",
       "<style scoped>\n",
       "    .dataframe tbody tr th:only-of-type {\n",
       "        vertical-align: middle;\n",
       "    }\n",
       "\n",
       "    .dataframe tbody tr th {\n",
       "        vertical-align: top;\n",
       "    }\n",
       "\n",
       "    .dataframe thead th {\n",
       "        text-align: right;\n",
       "    }\n",
       "</style>\n",
       "<table border=\"1\" class=\"dataframe\">\n",
       "  <thead>\n",
       "    <tr style=\"text-align: right;\">\n",
       "      <th></th>\n",
       "      <th>viewed</th>\n",
       "      <th>bought</th>\n",
       "    </tr>\n",
       "  </thead>\n",
       "  <tbody>\n",
       "    <tr>\n",
       "      <th>26569</th>\n",
       "      <td>2</td>\n",
       "      <td>0</td>\n",
       "    </tr>\n",
       "    <tr>\n",
       "      <th>49668</th>\n",
       "      <td>6</td>\n",
       "      <td>0</td>\n",
       "    </tr>\n",
       "    <tr>\n",
       "      <th>28481</th>\n",
       "      <td>2</td>\n",
       "      <td>0</td>\n",
       "    </tr>\n",
       "    <tr>\n",
       "      <th>65593</th>\n",
       "      <td>1</td>\n",
       "      <td>0</td>\n",
       "    </tr>\n",
       "    <tr>\n",
       "      <th>60307</th>\n",
       "      <td>5</td>\n",
       "      <td>1</td>\n",
       "    </tr>\n",
       "  </tbody>\n",
       "</table>\n",
       "</div>"
      ],
      "text/plain": [
       "       viewed  bought\n",
       "26569       2       0\n",
       "49668       6       0\n",
       "28481       2       0\n",
       "65593       1       0\n",
       "60307       5       1"
      ]
     },
     "execution_count": 148,
     "metadata": {},
     "output_type": "execute_result"
    }
   ],
   "source": [
    "frequencies = pd.DataFrame(index = id_unique_train)\n",
    "frequencies['viewed'] = frequencies.index.map(lambda i: id_viewed_train.count(i))\n",
    "frequencies['bought'] = frequencies.index.map(lambda i: id_bought_train.count(i))\n",
    "frequencies.head()"
   ]
  },
  {
   "cell_type": "markdown",
   "metadata": {},
   "source": [
    "### исключение из оценки сессий, в которых пользователь ничего не купил"
   ]
  },
  {
   "cell_type": "code",
   "execution_count": 149,
   "metadata": {},
   "outputs": [
    {
     "data": {
      "text/plain": [
       "(3608, 2)"
      ]
     },
     "execution_count": 149,
     "metadata": {},
     "output_type": "execute_result"
    }
   ],
   "source": [
    "df_train = df_train[df_train['bought'].apply(lambda s: s != [''])]\n",
    "df_train.shape"
   ]
  },
  {
   "cell_type": "code",
   "execution_count": 150,
   "metadata": {},
   "outputs": [
    {
     "data": {
      "text/html": [
       "<div>\n",
       "<style scoped>\n",
       "    .dataframe tbody tr th:only-of-type {\n",
       "        vertical-align: middle;\n",
       "    }\n",
       "\n",
       "    .dataframe tbody tr th {\n",
       "        vertical-align: top;\n",
       "    }\n",
       "\n",
       "    .dataframe thead th {\n",
       "        text-align: right;\n",
       "    }\n",
       "</style>\n",
       "<table border=\"1\" class=\"dataframe\">\n",
       "  <thead>\n",
       "    <tr style=\"text-align: right;\">\n",
       "      <th></th>\n",
       "      <th>viewed</th>\n",
       "      <th>bought</th>\n",
       "    </tr>\n",
       "  </thead>\n",
       "  <tbody>\n",
       "    <tr>\n",
       "      <th>7</th>\n",
       "      <td>[59, 60, 61, 62, 60, 63, 64, 65, 66, 61, 67, 6...</td>\n",
       "      <td>[67, 60, 63]</td>\n",
       "    </tr>\n",
       "    <tr>\n",
       "      <th>10</th>\n",
       "      <td>[84, 85, 86, 87, 88, 89, 84, 90, 91, 92, 93, 86]</td>\n",
       "      <td>[86]</td>\n",
       "    </tr>\n",
       "    <tr>\n",
       "      <th>19</th>\n",
       "      <td>[138, 198, 199, 127]</td>\n",
       "      <td>[199]</td>\n",
       "    </tr>\n",
       "    <tr>\n",
       "      <th>30</th>\n",
       "      <td>[303, 304, 305, 306, 307, 308, 309, 310, 311, ...</td>\n",
       "      <td>[303]</td>\n",
       "    </tr>\n",
       "    <tr>\n",
       "      <th>33</th>\n",
       "      <td>[352, 353, 352]</td>\n",
       "      <td>[352]</td>\n",
       "    </tr>\n",
       "    <tr>\n",
       "      <th>55</th>\n",
       "      <td>[519]</td>\n",
       "      <td>[519]</td>\n",
       "    </tr>\n",
       "    <tr>\n",
       "      <th>64</th>\n",
       "      <td>[599, 600, 601, 602]</td>\n",
       "      <td>[603, 604, 602, 599, 605, 606, 600]</td>\n",
       "    </tr>\n",
       "    <tr>\n",
       "      <th>72</th>\n",
       "      <td>[687, 688, 689, 690, 691, 690, 688, 690, 688, ...</td>\n",
       "      <td>[690, 688]</td>\n",
       "    </tr>\n",
       "    <tr>\n",
       "      <th>89</th>\n",
       "      <td>[850, 851, 852]</td>\n",
       "      <td>[851]</td>\n",
       "    </tr>\n",
       "    <tr>\n",
       "      <th>93</th>\n",
       "      <td>[879, 884, 170, 137, 170, 879, 884, 879, 885, ...</td>\n",
       "      <td>[879]</td>\n",
       "    </tr>\n",
       "  </tbody>\n",
       "</table>\n",
       "</div>"
      ],
      "text/plain": [
       "                                               viewed  \\\n",
       "7   [59, 60, 61, 62, 60, 63, 64, 65, 66, 61, 67, 6...   \n",
       "10   [84, 85, 86, 87, 88, 89, 84, 90, 91, 92, 93, 86]   \n",
       "19                               [138, 198, 199, 127]   \n",
       "30  [303, 304, 305, 306, 307, 308, 309, 310, 311, ...   \n",
       "33                                    [352, 353, 352]   \n",
       "55                                              [519]   \n",
       "64                               [599, 600, 601, 602]   \n",
       "72  [687, 688, 689, 690, 691, 690, 688, 690, 688, ...   \n",
       "89                                    [850, 851, 852]   \n",
       "93  [879, 884, 170, 137, 170, 879, 884, 879, 885, ...   \n",
       "\n",
       "                                 bought  \n",
       "7                          [67, 60, 63]  \n",
       "10                                 [86]  \n",
       "19                                [199]  \n",
       "30                                [303]  \n",
       "33                                [352]  \n",
       "55                                [519]  \n",
       "64  [603, 604, 602, 599, 605, 606, 600]  \n",
       "72                           [690, 688]  \n",
       "89                                [851]  \n",
       "93                                [879]  "
      ]
     },
     "execution_count": 150,
     "metadata": {},
     "output_type": "execute_result"
    }
   ],
   "source": [
    "df_train.head(10)"
   ]
  },
  {
   "cell_type": "code",
   "execution_count": 151,
   "metadata": {},
   "outputs": [
    {
     "data": {
      "text/plain": [
       "(3665, 2)"
      ]
     },
     "execution_count": 151,
     "metadata": {},
     "output_type": "execute_result"
    }
   ],
   "source": [
    "df_test = df_test[df_test['bought'].apply(lambda s: s != [''])]\n",
    "df_test.shape"
   ]
  },
  {
   "cell_type": "code",
   "execution_count": 152,
   "metadata": {},
   "outputs": [
    {
     "data": {
      "text/html": [
       "<div>\n",
       "<style scoped>\n",
       "    .dataframe tbody tr th:only-of-type {\n",
       "        vertical-align: middle;\n",
       "    }\n",
       "\n",
       "    .dataframe tbody tr th {\n",
       "        vertical-align: top;\n",
       "    }\n",
       "\n",
       "    .dataframe thead th {\n",
       "        text-align: right;\n",
       "    }\n",
       "</style>\n",
       "<table border=\"1\" class=\"dataframe\">\n",
       "  <thead>\n",
       "    <tr style=\"text-align: right;\">\n",
       "      <th></th>\n",
       "      <th>viewed</th>\n",
       "      <th>bought</th>\n",
       "    </tr>\n",
       "  </thead>\n",
       "  <tbody>\n",
       "    <tr>\n",
       "      <th>7</th>\n",
       "      <td>[63, 68, 69, 70, 66, 61, 59, 61, 66, 68]</td>\n",
       "      <td>[66, 63]</td>\n",
       "    </tr>\n",
       "    <tr>\n",
       "      <th>14</th>\n",
       "      <td>[158, 159, 160, 159, 161, 162]</td>\n",
       "      <td>[162]</td>\n",
       "    </tr>\n",
       "    <tr>\n",
       "      <th>19</th>\n",
       "      <td>[200, 201, 202, 203, 204]</td>\n",
       "      <td>[201, 205]</td>\n",
       "    </tr>\n",
       "    <tr>\n",
       "      <th>34</th>\n",
       "      <td>[371, 372, 371]</td>\n",
       "      <td>[371, 373]</td>\n",
       "    </tr>\n",
       "    <tr>\n",
       "      <th>40</th>\n",
       "      <td>[422]</td>\n",
       "      <td>[422]</td>\n",
       "    </tr>\n",
       "  </tbody>\n",
       "</table>\n",
       "</div>"
      ],
      "text/plain": [
       "                                      viewed      bought\n",
       "7   [63, 68, 69, 70, 66, 61, 59, 61, 66, 68]    [66, 63]\n",
       "14            [158, 159, 160, 159, 161, 162]       [162]\n",
       "19                 [200, 201, 202, 203, 204]  [201, 205]\n",
       "34                           [371, 372, 371]  [371, 373]\n",
       "40                                     [422]       [422]"
      ]
     },
     "execution_count": 152,
     "metadata": {},
     "output_type": "execute_result"
    }
   ],
   "source": [
    "df_test.head()"
   ]
  },
  {
   "cell_type": "markdown",
   "metadata": {},
   "source": [
    "### сортировка просмотренных товаров по частотам в рамках одной сессии "
   ]
  },
  {
   "cell_type": "code",
   "execution_count": 183,
   "metadata": {},
   "outputs": [],
   "source": [
    "def sort_by_frequencies(x, freq):\n",
    "    fr = [freq[i] if i in freq.index else 0 for i in x]\n",
    "    return list(dict.fromkeys([k[0] for k in sorted(zip(x, fr), key = lambda i: i[1], reverse = True)]))"
   ]
  },
  {
   "cell_type": "code",
   "execution_count": 184,
   "metadata": {},
   "outputs": [
    {
     "data": {
      "text/html": [
       "<div>\n",
       "<style scoped>\n",
       "    .dataframe tbody tr th:only-of-type {\n",
       "        vertical-align: middle;\n",
       "    }\n",
       "\n",
       "    .dataframe tbody tr th {\n",
       "        vertical-align: top;\n",
       "    }\n",
       "\n",
       "    .dataframe thead th {\n",
       "        text-align: right;\n",
       "    }\n",
       "</style>\n",
       "<table border=\"1\" class=\"dataframe\">\n",
       "  <thead>\n",
       "    <tr style=\"text-align: right;\">\n",
       "      <th></th>\n",
       "      <th>viewed</th>\n",
       "      <th>bought</th>\n",
       "      <th>viewed_viewed</th>\n",
       "      <th>viewed_bought</th>\n",
       "    </tr>\n",
       "  </thead>\n",
       "  <tbody>\n",
       "    <tr>\n",
       "      <th>7</th>\n",
       "      <td>[59, 60, 61, 62, 60, 63, 64, 65, 66, 61, 67, 6...</td>\n",
       "      <td>[67, 60, 63]</td>\n",
       "      <td>[63, 64, 60, 61, 65, 66, 67, 68, 59, 62]</td>\n",
       "      <td>[60, 63, 67, 59, 61, 62, 64, 65, 66, 68]</td>\n",
       "    </tr>\n",
       "    <tr>\n",
       "      <th>10</th>\n",
       "      <td>[84, 85, 86, 87, 88, 89, 84, 90, 91, 92, 93, 86]</td>\n",
       "      <td>[86]</td>\n",
       "      <td>[85, 93, 89, 90, 84, 92, 86, 87, 91, 88]</td>\n",
       "      <td>[86, 85, 93, 84, 87, 88, 89, 90, 91, 92]</td>\n",
       "    </tr>\n",
       "    <tr>\n",
       "      <th>19</th>\n",
       "      <td>[138, 198, 199, 127]</td>\n",
       "      <td>[199]</td>\n",
       "      <td>[127, 138, 198, 199]</td>\n",
       "      <td>[138, 199, 127, 198]</td>\n",
       "    </tr>\n",
       "    <tr>\n",
       "      <th>30</th>\n",
       "      <td>[303, 304, 305, 306, 307, 308, 309, 310, 311, ...</td>\n",
       "      <td>[303]</td>\n",
       "      <td>[303, 306, 304, 307, 309, 310, 305, 308, 311, ...</td>\n",
       "      <td>[303, 304, 305, 306, 307, 308, 309, 310, 311, ...</td>\n",
       "    </tr>\n",
       "    <tr>\n",
       "      <th>33</th>\n",
       "      <td>[352, 353, 352]</td>\n",
       "      <td>[352]</td>\n",
       "      <td>[352, 353]</td>\n",
       "      <td>[352, 353]</td>\n",
       "    </tr>\n",
       "  </tbody>\n",
       "</table>\n",
       "</div>"
      ],
      "text/plain": [
       "                                               viewed        bought  \\\n",
       "7   [59, 60, 61, 62, 60, 63, 64, 65, 66, 61, 67, 6...  [67, 60, 63]   \n",
       "10   [84, 85, 86, 87, 88, 89, 84, 90, 91, 92, 93, 86]          [86]   \n",
       "19                               [138, 198, 199, 127]         [199]   \n",
       "30  [303, 304, 305, 306, 307, 308, 309, 310, 311, ...         [303]   \n",
       "33                                    [352, 353, 352]         [352]   \n",
       "\n",
       "                                        viewed_viewed  \\\n",
       "7            [63, 64, 60, 61, 65, 66, 67, 68, 59, 62]   \n",
       "10           [85, 93, 89, 90, 84, 92, 86, 87, 91, 88]   \n",
       "19                               [127, 138, 198, 199]   \n",
       "30  [303, 306, 304, 307, 309, 310, 305, 308, 311, ...   \n",
       "33                                         [352, 353]   \n",
       "\n",
       "                                        viewed_bought  \n",
       "7            [60, 63, 67, 59, 61, 62, 64, 65, 66, 68]  \n",
       "10           [86, 85, 93, 84, 87, 88, 89, 90, 91, 92]  \n",
       "19                               [138, 199, 127, 198]  \n",
       "30  [303, 304, 305, 306, 307, 308, 309, 310, 311, ...  \n",
       "33                                         [352, 353]  "
      ]
     },
     "execution_count": 184,
     "metadata": {},
     "output_type": "execute_result"
    }
   ],
   "source": [
    "df_train['viewed_viewed'] = df_train['viewed'].apply(lambda x: sort_by_frequencies(x, frequencies['viewed']))\n",
    "df_train['viewed_bought'] = df_train['viewed'].apply(lambda x: sort_by_frequencies(x, frequencies['bought']))\n",
    "df_train.head()"
   ]
  },
  {
   "cell_type": "code",
   "execution_count": 185,
   "metadata": {},
   "outputs": [
    {
     "data": {
      "text/html": [
       "<div>\n",
       "<style scoped>\n",
       "    .dataframe tbody tr th:only-of-type {\n",
       "        vertical-align: middle;\n",
       "    }\n",
       "\n",
       "    .dataframe tbody tr th {\n",
       "        vertical-align: top;\n",
       "    }\n",
       "\n",
       "    .dataframe thead th {\n",
       "        text-align: right;\n",
       "    }\n",
       "</style>\n",
       "<table border=\"1\" class=\"dataframe\">\n",
       "  <thead>\n",
       "    <tr style=\"text-align: right;\">\n",
       "      <th></th>\n",
       "      <th>viewed</th>\n",
       "      <th>bought</th>\n",
       "      <th>viewed_viewed</th>\n",
       "      <th>viewed_bought</th>\n",
       "    </tr>\n",
       "  </thead>\n",
       "  <tbody>\n",
       "    <tr>\n",
       "      <th>7</th>\n",
       "      <td>[63, 68, 69, 70, 66, 61, 59, 61, 66, 68]</td>\n",
       "      <td>[66, 63]</td>\n",
       "      <td>[63, 68, 66, 61, 59, 69, 70]</td>\n",
       "      <td>[63, 68, 69, 70, 66, 61, 59]</td>\n",
       "    </tr>\n",
       "    <tr>\n",
       "      <th>14</th>\n",
       "      <td>[158, 159, 160, 159, 161, 162]</td>\n",
       "      <td>[162]</td>\n",
       "      <td>[158, 162, 160, 159, 161]</td>\n",
       "      <td>[158, 162, 160, 159, 161]</td>\n",
       "    </tr>\n",
       "    <tr>\n",
       "      <th>19</th>\n",
       "      <td>[200, 201, 202, 203, 204]</td>\n",
       "      <td>[201, 205]</td>\n",
       "      <td>[204, 202, 203, 200, 201]</td>\n",
       "      <td>[204, 202, 200, 201, 203]</td>\n",
       "    </tr>\n",
       "    <tr>\n",
       "      <th>34</th>\n",
       "      <td>[371, 372, 371]</td>\n",
       "      <td>[371, 373]</td>\n",
       "      <td>[371, 372]</td>\n",
       "      <td>[371, 372]</td>\n",
       "    </tr>\n",
       "    <tr>\n",
       "      <th>40</th>\n",
       "      <td>[422]</td>\n",
       "      <td>[422]</td>\n",
       "      <td>[422]</td>\n",
       "      <td>[422]</td>\n",
       "    </tr>\n",
       "  </tbody>\n",
       "</table>\n",
       "</div>"
      ],
      "text/plain": [
       "                                      viewed      bought  \\\n",
       "7   [63, 68, 69, 70, 66, 61, 59, 61, 66, 68]    [66, 63]   \n",
       "14            [158, 159, 160, 159, 161, 162]       [162]   \n",
       "19                 [200, 201, 202, 203, 204]  [201, 205]   \n",
       "34                           [371, 372, 371]  [371, 373]   \n",
       "40                                     [422]       [422]   \n",
       "\n",
       "                   viewed_viewed                 viewed_bought  \n",
       "7   [63, 68, 66, 61, 59, 69, 70]  [63, 68, 69, 70, 66, 61, 59]  \n",
       "14     [158, 162, 160, 159, 161]     [158, 162, 160, 159, 161]  \n",
       "19     [204, 202, 203, 200, 201]     [204, 202, 200, 201, 203]  \n",
       "34                    [371, 372]                    [371, 372]  \n",
       "40                         [422]                         [422]  "
      ]
     },
     "execution_count": 185,
     "metadata": {},
     "output_type": "execute_result"
    }
   ],
   "source": [
    "df_test['viewed_viewed'] = df_test['viewed'].apply(lambda x: sort_by_frequencies(x, frequencies['viewed']))\n",
    "df_test['viewed_bought'] = df_test['viewed'].apply(lambda x: sort_by_frequencies(x, frequencies['bought']))\n",
    "df_test.head()"
   ]
  },
  {
   "cell_type": "markdown",
   "metadata": {},
   "source": [
    "### расчет метрик для оценки качества выдаваемых рекомендаций"
   ]
  },
  {
   "cell_type": "code",
   "execution_count": 190,
   "metadata": {},
   "outputs": [],
   "source": [
    "def get_precision_array_for_sessions(k, recommended, bought):\n",
    "    return len(np.intersect1d(recommended[:k], bought)) / float(k)\n",
    "\n",
    "def get_recall_array_for_sessions(k, recommended, bought):\n",
    "    return len(np.intersect1d(recommended[:k], bought)) / float(len(bought))"
   ]
  },
  {
   "cell_type": "code",
   "execution_count": 197,
   "metadata": {},
   "outputs": [],
   "source": [
    "precision_train_viewed_k1 = df_train[['viewed_viewed', 'bought']] \\\n",
    "                                                .apply(lambda x: get_precision_array_for_sessions(1, x[0], x[1]), axis = 1)\n",
    "precision_train_viewed_k5 = df_train[['viewed_viewed', 'bought']] \\\n",
    "                                                .apply(lambda x: get_precision_array_for_sessions(5, x[0], x[1]), axis = 1)\n",
    "\n",
    "precision_train_bought_k1 = df_train[['viewed_bought', 'bought']] \\\n",
    "                                                .apply(lambda x: get_precision_array_for_sessions(1, x[0], x[1]), axis = 1)\n",
    "precision_train_bought_k5 = df_train[['viewed_bought', 'bought']] \\\n",
    "                                                .apply(lambda x: get_precision_array_for_sessions(5, x[0], x[1]), axis = 1)"
   ]
  },
  {
   "cell_type": "code",
   "execution_count": 200,
   "metadata": {},
   "outputs": [
    {
     "name": "stdout",
     "output_type": "stream",
     "text": [
      "--- Метрика AveragePrecision@k для обучающей выборки ---\n",
      "При количестве рекомендаций k = 1 по частотности просмотров:  0.5121951219512195\n",
      "При количестве рекомендаций k = 5 по частотности просмотров:  0.21252771618625918\n",
      "При количестве рекомендаций k = 1 по частотности покупок:  0.8037694013303769\n",
      "При количестве рекомендаций k = 5 по частотности покупок:  0.2525498891352649\n"
     ]
    }
   ],
   "source": [
    "print('--- Метрика AveragePrecision@k для обучающей выборки ---')\n",
    "print('При количестве рекомендаций k = 1 по частотности просмотров: ', precision_train_viewed_k1.mean())\n",
    "print('При количестве рекомендаций k = 5 по частотности просмотров: ', precision_train_viewed_k5.mean())\n",
    "print('При количестве рекомендаций k = 1 по частотности покупок: ', precision_train_bought_k1.mean())\n",
    "print('При количестве рекомендаций k = 5 по частотности покупок: ', precision_train_bought_k5.mean())"
   ]
  },
  {
   "cell_type": "code",
   "execution_count": 201,
   "metadata": {},
   "outputs": [],
   "source": [
    "precision_test_viewed_k1 = df_test[['viewed_viewed', 'bought']] \\\n",
    "                                                .apply(lambda x: get_precision_array_for_sessions(1, x[0], x[1]), axis = 1)\n",
    "precision_test_viewed_k5 = df_test[['viewed_viewed', 'bought']] \\\n",
    "                                                .apply(lambda x: get_precision_array_for_sessions(5, x[0], x[1]), axis = 1)\n",
    "\n",
    "precision_test_bought_k1 = df_test[['viewed_bought', 'bought']] \\\n",
    "                                                .apply(lambda x: get_precision_array_for_sessions(1, x[0], x[1]), axis = 1)\n",
    "precision_test_bought_k5 = df_test[['viewed_bought', 'bought']] \\\n",
    "                                                .apply(lambda x: get_precision_array_for_sessions(5, x[0], x[1]), axis = 1)"
   ]
  },
  {
   "cell_type": "code",
   "execution_count": 202,
   "metadata": {},
   "outputs": [
    {
     "name": "stdout",
     "output_type": "stream",
     "text": [
      "--- Метрика AveragePrecision@k для тестовой выборки ---\n",
      "При количестве рекомендаций k = 1 по частотности просмотров:  0.48130968622100956\n",
      "При количестве рекомендаций k = 5 по частотности просмотров:  0.2037653478854079\n",
      "При количестве рекомендаций k = 1 по частотности покупок:  0.5276944065484311\n",
      "При количестве рекомендаций k = 5 по частотности покупок:  0.21009549795362173\n"
     ]
    }
   ],
   "source": [
    "print('--- Метрика AveragePrecision@k для тестовой выборки ---')\n",
    "print('При количестве рекомендаций k = 1 по частотности просмотров: ', precision_test_viewed_k1.mean())\n",
    "print('При количестве рекомендаций k = 5 по частотности просмотров: ', precision_test_viewed_k5.mean())\n",
    "print('При количестве рекомендаций k = 1 по частотности покупок: ', precision_test_bought_k1.mean())\n",
    "print('При количестве рекомендаций k = 5 по частотности покупок: ', precision_test_bought_k5.mean())"
   ]
  },
  {
   "cell_type": "markdown",
   "metadata": {},
   "source": [
    "__При показе 5-ти рекомендаций в среднем один товар будет куплен. Разница между алгоритмами несущественная__"
   ]
  },
  {
   "cell_type": "code",
   "execution_count": 203,
   "metadata": {},
   "outputs": [],
   "source": [
    "recall_train_viewed_k1 = df_train[['viewed_viewed', 'bought']] \\\n",
    "                                                .apply(lambda x: get_recall_array_for_sessions(1, x[0], x[1]), axis = 1)\n",
    "recall_train_viewed_k5 = df_train[['viewed_viewed', 'bought']] \\\n",
    "                                                .apply(lambda x: get_recall_array_for_sessions(5, x[0], x[1]), axis = 1)\n",
    "\n",
    "recall_train_bought_k1 = df_train[['viewed_bought', 'bought']] \\\n",
    "                                                .apply(lambda x: get_recall_array_for_sessions(1, x[0], x[1]), axis = 1)\n",
    "recall_train_bought_k5 = df_train[['viewed_bought', 'bought']] \\\n",
    "                                                .apply(lambda x: get_recall_array_for_sessions(5, x[0], x[1]), axis = 1)"
   ]
  },
  {
   "cell_type": "code",
   "execution_count": 204,
   "metadata": {},
   "outputs": [
    {
     "name": "stdout",
     "output_type": "stream",
     "text": [
      "--- Метрика AverageRecall@k для обучающей выборки ---\n",
      "При количестве рекомендаций k = 1 по частотности просмотров:  0.4426343165949593\n",
      "При количестве рекомендаций k = 5 по частотности просмотров:  0.8246918247126122\n",
      "При количестве рекомендаций k = 1 по частотности покупок:  0.6884494924267653\n",
      "При количестве рекомендаций k = 5 по частотности покупок:  0.9263073024228787\n"
     ]
    }
   ],
   "source": [
    "print('--- Метрика AverageRecall@k для обучающей выборки ---')\n",
    "print('При количестве рекомендаций k = 1 по частотности просмотров: ', recall_train_viewed_k1.mean())\n",
    "print('При количестве рекомендаций k = 5 по частотности просмотров: ', recall_train_viewed_k5.mean())\n",
    "print('При количестве рекомендаций k = 1 по частотности покупок: ', recall_train_bought_k1.mean())\n",
    "print('При количестве рекомендаций k = 5 по частотности покупок: ', recall_train_bought_k5.mean())"
   ]
  },
  {
   "cell_type": "code",
   "execution_count": 205,
   "metadata": {},
   "outputs": [],
   "source": [
    "recall_test_viewed_k1 = df_test[['viewed_viewed', 'bought']] \\\n",
    "                                                .apply(lambda x: get_recall_array_for_sessions(1, x[0], x[1]), axis = 1)\n",
    "recall_test_viewed_k5 = df_test[['viewed_viewed', 'bought']] \\\n",
    "                                                .apply(lambda x: get_recall_array_for_sessions(5, x[0], x[1]), axis = 1)\n",
    "\n",
    "recall_test_bought_k1 = df_test[['viewed_bought', 'bought']] \\\n",
    "                                                .apply(lambda x: get_recall_array_for_sessions(1, x[0], x[1]), axis = 1)\n",
    "recall_test_bought_k5 = df_test[['viewed_bought', 'bought']] \\\n",
    "                                                .apply(lambda x: get_recall_array_for_sessions(5, x[0], x[1]), axis = 1)"
   ]
  },
  {
   "cell_type": "code",
   "execution_count": 206,
   "metadata": {},
   "outputs": [
    {
     "name": "stdout",
     "output_type": "stream",
     "text": [
      "--- Метрика AverageRecall@k для тестовой выборки ---\n",
      "При количестве рекомендаций k = 1 по частотности просмотров:  0.41733266203252534\n",
      "При количестве рекомендаций k = 5 по частотности просмотров:  0.8000340663538579\n",
      "При количестве рекомендаций k = 1 по частотности покупок:  0.4606201666660294\n",
      "При количестве рекомендаций k = 5 по частотности покупок:  0.8201874337490194\n"
     ]
    }
   ],
   "source": [
    "print('--- Метрика AverageRecall@k для тестовой выборки ---')\n",
    "print('При количестве рекомендаций k = 1 по частотности просмотров: ', recall_test_viewed_k1.mean())\n",
    "print('При количестве рекомендаций k = 5 по частотности просмотров: ', recall_test_viewed_k5.mean())\n",
    "print('При количестве рекомендаций k = 1 по частотности покупок: ', recall_test_bought_k1.mean())\n",
    "print('При количестве рекомендаций k = 5 по частотности покупок: ', recall_test_bought_k5.mean())"
   ]
  },
  {
   "cell_type": "markdown",
   "metadata": {},
   "source": [
    "__При показе 5-ти рекомендаций в среднем 81% купленных пользователем товаров будет из числа рекомендованных. Алгоритм расчета частотности по количеству покупок дает более высокую оценку.__"
   ]
  },
  {
   "cell_type": "code",
   "execution_count": 209,
   "metadata": {},
   "outputs": [],
   "source": [
    "precision_score = [\n",
    "    np.mean(df_test[['viewed_bought', 'bought']] \\\n",
    "            .apply(lambda x: get_precision_array_for_sessions(k, x[0], x[1]), axis = 1)) \\\n",
    "    for k in range(1, 10)\n",
    "]\n",
    "recall_score = [\n",
    "    np.mean(df_test[['viewed_bought', 'bought']] \\\n",
    "            .apply(lambda x: get_recall_array_for_sessions(k, x[0], x[1]), axis = 1)) \\\n",
    "    for k in range(1, 10)\n",
    "]"
   ]
  },
  {
   "cell_type": "code",
   "execution_count": 212,
   "metadata": {},
   "outputs": [
    {
     "data": {
      "image/png": "[encoded data removed]",
      "text/plain": [
       "<Figure size 432x288 with 1 Axes>"
      ]
     },
     "metadata": {},
     "output_type": "display_data"
    }
   ],
   "source": [
    "plt.plot(range(1, 10), precision_score, label = 'AveragePrecision@k')\n",
    "plt.plot(range(1, 10), recall_score, label = 'AverageRecall@k')\n",
    "plt.title('Значения метрик в зависимости от количества рекомендаций')\n",
    "plt.legend()\n",
    "plt.show()"
   ]
  },
  {
   "cell_type": "markdown",
   "metadata": {},
   "source": [
    "# Вывод:\n",
    "\n",
    "Для А/В теста рекомендуется использовать алгоритм формирования рекомендаций на основе частотности покупок с количеством рекомендаций, выбранных из соображений важности для бизнеса той или иной из рассчитанных метрик. "
   ]
  },
  {
   "cell_type": "code",
   "execution_count": null,
   "metadata": {},
   "outputs": [],
   "source": []
  }
 ],
 "metadata": {
  "kernelspec": {
   "display_name": "Python 3",
   "language": "python",
   "name": "python3"
  },
  "language_info": {
   "codemirror_mode": {
    "name": "ipython",
    "version": 3
   },
   "file_extension": ".py",
   "mimetype": "text/x-python",
   "name": "python",
   "nbconvert_exporter": "python",
   "pygments_lexer": "ipython3",
   "version": "3.6.5"
  }
 },
 "nbformat": 4,
 "nbformat_minor": 2
}
