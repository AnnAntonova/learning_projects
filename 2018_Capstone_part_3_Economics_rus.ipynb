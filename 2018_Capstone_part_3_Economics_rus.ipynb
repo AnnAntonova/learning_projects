{
 "cells": [
  {
   "cell_type": "markdown",
   "metadata": {},
   "source": [
    "# Прогнозирование оттока клиентов\n",
    "\n",
    "### Дипломный проект Специализации \"Машинное обучение и анализ данных\" на Coursera\n",
    "\n",
    "https://www.coursera.org/specializations/machine-learning-data-analysis"
   ]
  },
  {
   "cell_type": "markdown",
   "metadata": {},
   "source": [
    "__Постановка задачи:__\n",
    "\n",
    "В 2009 году проводилось соревнование KDD Cup: Customer relationship prediction (http://www.kdd.org/kdd-cup/view/kdd-cup-2009/Intro). Данные для соревнования были предоставлены французской телекоммуникационной компанией Orange. В задаче речь шла о клиентских данных, поэтому данные были предварительно обфусцированы и анонимизированны: из датасета убрана любая персональная информация, позволяющая идентифицировать пользователей, а также не представлены названия и описания переменных, предназначенных для построения прогнозов. \n",
    "\n",
    "Для дипломного проекта взяты данные из этого соревнования. Обучающий и тестовый датасеты доступны на тренировочном полигоне диплома по адресу: https://www.kaggle.com/c/telecom-clients-churn-prediction/\n",
    "\n",
    "В рамках диплома решается задача прогнозирования оттока пользователей, или churn prediction. Речь идет о вероятностной модели бинарной классификации, где целевой класс представляют собой пользователи, покидающие сервис. Вероятность того, что пользователь принадлежит целевому классу и есть целевая величина – вероятность оттока, которую нужно научиться предсказывать."
   ]
  },
  {
   "cell_type": "markdown",
   "metadata": {},
   "source": [
    "## Часть 3. Оценка потенциального экономического эффекта от внедрения полученного решения"
   ]
  },
  {
   "cell_type": "code",
   "execution_count": 1,
   "metadata": {},
   "outputs": [],
   "source": [
    "import numpy as np\n",
    "import pandas as pd\n",
    "import matplotlib.pyplot as plt\n",
    "%matplotlib inline"
   ]
  },
  {
   "cell_type": "markdown",
   "metadata": {},
   "source": [
    "Параметров у модели будет много, поэтому я буду собирать их все в один словарь:"
   ]
  },
  {
   "cell_type": "code",
   "execution_count": 2,
   "metadata": {},
   "outputs": [],
   "source": [
    "model_params = {}"
   ]
  },
  {
   "cell_type": "markdown",
   "metadata": {},
   "source": [
    "## Предположения, в которых строится оценка экономического эффекта"
   ]
  },
  {
   "cell_type": "markdown",
   "metadata": {},
   "source": [
    "Все расчеты и показатели, используемые далее, приведены к месячному измерению. Горизонт анализа составляет 2 месяца: нулевой - оценка базовых значений для дальнейшего сравнения, первый месяц - расходы на кампанию по удержанию клиентов и полученные за этот месяц от кампании доходы за счет возврата части клиентов.\n",
    "\n",
    "По-серьезному, оценку нужно делать в перспективе на, минимум, квартал, а еще лучше - полгода. Но в рамках диплома я это делать не буду - схема будет точно такая же, но каждый следующий месяц оценивается относительно предыдущего с учетом изменений, вносимых моделью."
   ]
  },
  {
   "cell_type": "markdown",
   "metadata": {},
   "source": [
    "Поскольку речь идет о деньгах организации, оценку нужно делать с учетом окружения модели, в которое входят:\n",
    "\n",
    "- расходы организации: для телекома основными расходами являются капитальные затраты, на фоне которых расходы, связанные с клиентами, ничтожны. Поэтому последние можно игнорировать и считать, что (__Предположение 1__) ежемесячные расходы константны и не зависят от оттока/притока и вообще от размера клиентской базы. \n",
    "\n",
    "- доходы организации: а вот они как раз напрямую зависят от денег, которые приносят клиенты. Упростим модель и будем считать, что (__Предположение 2__) величина ежемесячных доходов в точности равна количеству клиентов в этом месяце, умноженному на средний доход от одного клиента. \n",
    "\n",
    "Можно, конечно, ограничиться только теми параметрами, которые напрямую связаны с моделью, но мне интересно сравнить показатели с общей ситуацией. Иначе может получиться \"драка за копейки на фоне миллионов\"."
   ]
  },
  {
   "cell_type": "markdown",
   "metadata": {},
   "source": [
    "__Предположение 3:__ нам откуда-то известны бизнес-показатели организации:"
   ]
  },
  {
   "cell_type": "code",
   "execution_count": 3,
   "metadata": {},
   "outputs": [],
   "source": [
    "model_params['capital_cost'] = 400000000      # ежемесячные расходы (константа)\n",
    "model_params['number_of_clients'] = 1000000   # количество клиентов в месяц, предшествующий кампании по удержанию\n",
    "model_params['income_from_client'] = 500      # средний ежемесячный доход от одного клиента\n",
    "model_params['cost_of_withholding'] = 100     # сколько денег будет вкладываться в удержание одного клиента в месяц\n",
    "model_params['probability_of_accepting'] = .5 # вероятность принятия предложения клиентом в рамках кампании\n",
    "model_params['fraction_of_clients'] = .25     # доля клиентов, включенных в кампанию, от списка, представленного моделью\n",
    "model_params['month_churn'] = .0744           # доля оттока за нулевой месяц от общего количества клиентов"
   ]
  },
  {
   "cell_type": "markdown",
   "metadata": {},
   "source": [
    "Еще одной спецификой телекома является естественная миграция абонентов. Это тот отток, который компенсируется притоком, и с которым нет смысла работать вообще. Это - поправка к оценке прогноза модели.\n",
    "\n",
    "__Предположение 4:__ нам откуда-то известно, что величина естественной миграции в месяц составляет 1% от количества клиентов:"
   ]
  },
  {
   "cell_type": "code",
   "execution_count": 4,
   "metadata": {},
   "outputs": [],
   "source": [
    "model_params['natural_churn'] = .01"
   ]
  },
  {
   "cell_type": "markdown",
   "metadata": {},
   "source": [
    "Кроме того, оценка экономического эффекта имеет нижнюю границу разумного - проведение кампании должно быть выгоднее, чем помещение тех же денег на месяц в банк под проценты. \n",
    "\n",
    "__Предположение 5__: организация имеет возможность класть любую сумму на счет на 1 месяц под 7% годовых."
   ]
  },
  {
   "cell_type": "code",
   "execution_count": 5,
   "metadata": {},
   "outputs": [],
   "source": [
    "model_params['bank_month_procent'] = .07 / 12"
   ]
  },
  {
   "cell_type": "markdown",
   "metadata": {},
   "source": [
    "__Предположение 6:__ для оценки экономического эффекта будут использоваться две метрики - точность и полнота прогнозов построенной модели по классу оттока."
   ]
  },
  {
   "cell_type": "code",
   "execution_count": 6,
   "metadata": {},
   "outputs": [],
   "source": [
    "model_params['precision_churn'] = .99\n",
    "model_params['recall_churn'] = .48"
   ]
  },
  {
   "cell_type": "markdown",
   "metadata": {},
   "source": [
    "Цифры взяты из предыдущей работы по построению и отладке этой модели. Значения - максимальные, которых мне на данный момент удалось добиться. Это означает:\n",
    "\n",
    "- среди клиентов, отнесенных к классу оттока, будет 1% ошибочно диагностированных лояльных клиентов\n",
    "\n",
    "- 52% клиентов, готовых уйти, не будет обнаружено моделью"
   ]
  },
  {
   "cell_type": "markdown",
   "metadata": {},
   "source": [
    "## Задание 1\n",
    "\n",
    "_Введите еще несколько параметров и на их основе постройте простую экономическую модель: формулу по которой в зависимости от значения исходных параметров вы сможете рассчитать экономический эффект от проведения кампании (= сколько денег вы получили (или наоборот потеряли) от проведения кампании по удержанию) с использование вашей модели._"
   ]
  },
  {
   "cell_type": "markdown",
   "metadata": {},
   "source": [
    "__Таблица и функция для расчета абсолютных параметров кампании:__"
   ]
  },
  {
   "cell_type": "code",
   "execution_count": 11,
   "metadata": {},
   "outputs": [],
   "source": [
    "param_index = [\n",
    "    'clients_to_churn_for_campain', # количество уходящих клиентов, с которыми есть смысл работать\n",
    "    'size_of_campaign',             # количество клиентов, которые будут охвачены кампанией по удержанию\n",
    "    'returned_clients',             # количество клиентов, которых удалось удержать\n",
    "    'cost_of_campaign',             # затраты в месяц на кампанию\n",
    "    'profit_of_campaign',           # доходы от возвращенных клиентов минус затраты на кампанию\n",
    "    'losses_of_campaign'            # будет потрачено впустую из-за несовершенства модели и предложений клиентам\n",
    "]\n",
    "\n",
    "campain_params = pd.DataFrame(index = param_index)"
   ]
  },
  {
   "cell_type": "code",
   "execution_count": 12,
   "metadata": {},
   "outputs": [],
   "source": [
    "def get_campain_params(params = model_params):\n",
    "    \n",
    "    # реальное количество клиентов, готовых уйти:\n",
    "    clients_to_churn = int(params['number_of_clients'] * params['month_churn'])\n",
    "    # количество уходящих клиентов, с которыми есть смысл работать, т.е. за вычетом естественной миграции:\n",
    "    clients_to_churn_for_campain = clients_to_churn - \\\n",
    "                                                    int(params['number_of_clients'] * params['natural_churn'])\n",
    "    \n",
    "    # из общего числа уходящих клиентов модель обнаружит:\n",
    "    detected_clients_to_churn_right = int(clients_to_churn * params['recall_churn'])\n",
    "    # в список потенциальных участников кампании будет ошибочно добавлен 1% лояльных клиентов:\n",
    "    detected_clients_to_churn_error = int((params['number_of_clients'] - clients_to_churn) * \\\n",
    "                                                                            (1 - params['precision_churn']))\n",
    "    # итого модель выдаст список клиентов длиной:\n",
    "    detected_clients_to_churn = detected_clients_to_churn_right + detected_clients_to_churn_error\n",
    "    # доля правильно и неправильно обнаруженных клиентов в этой выборке составит:\n",
    "    fraction_right = detected_clients_to_churn_right / detected_clients_to_churn\n",
    "    fraction_error = detected_clients_to_churn_error / detected_clients_to_churn\n",
    "    # снова делаем поправку на естественную миграцию, рандомно исключая из рассмотрения клиентов, \n",
    "    # чей уход компенсируется приходом новых. Останется выборка размером:\n",
    "    detected_clients_to_churn = detected_clients_to_churn - \\\n",
    "                                                    int(params['number_of_clients'] * params['natural_churn'])\n",
    "    # для участия в кампании будет выбрано клиентов:\n",
    "    size_of_campaign = int(detected_clients_to_churn * params['fraction_of_clients'])\n",
    "    \n",
    "    # количество правильно и неправильно обнаруженных клиентов в этой выборке составит:\n",
    "    size_of_campaign_right = int(size_of_campaign * fraction_right)\n",
    "    size_of_campaign_error = int(size_of_campaign * fraction_error)\n",
    "    # удастся вернуть клиентов:\n",
    "    returned_clients = int(size_of_campaign_right * params['probability_of_accepting'])\n",
    "    \n",
    "    # на кампанию будет затрачено:\n",
    "    cost_of_campaign = size_of_campaign * params['cost_of_withholding']\n",
    "    \n",
    "    # месячный доход от клиентов, которых удалось вернуть, составит:\n",
    "    income_churn = int(returned_clients * params['income_from_client'])\n",
    "    # результат кампании:\n",
    "    profit_of_campaign = -cost_of_campaign + income_churn\n",
    "\n",
    "    # потери из-за несовершенства модели (потрачено впустую на лояльных клиентов) составят:\n",
    "    losses_not_churn = size_of_campaign_error * params['cost_of_withholding']\n",
    "    # потери из-за несовершенства рекламного предложения (потрачено на клиентов, \n",
    "    # которые не приняли предложение) составят:\n",
    "    losses_churn = int(size_of_campaign_right * (1 - params['probability_of_accepting']) * \\\n",
    "                                                                               params['cost_of_withholding'])\n",
    "    # суммарные потери составят:\n",
    "    losses_of_campaign = losses_not_churn + losses_churn\n",
    "    \n",
    "    return int(clients_to_churn_for_campain), int(size_of_campaign), int(returned_clients), \\\n",
    "           cost_of_campaign, profit_of_campaign, losses_of_campaign"
   ]
  },
  {
   "cell_type": "markdown",
   "metadata": {},
   "source": [
    "__Таблица и функция для расчета сравнительного экономического эффекта кампании:__"
   ]
  },
  {
   "cell_type": "code",
   "execution_count": 13,
   "metadata": {},
   "outputs": [],
   "source": [
    "effect_index = [\n",
    "    'Прибыль кампания/банк',        # отношение общей прибыли за 1-й месяц в случаях, если средства кладутся в банк и когда проводится кампания\n",
    "    'Затраты на кампанию',          # доля затрат в общей прибыли за нулевой (т.е. предыдущий) месяц\n",
    "    'Возврат клиентов по кампании', # доля возвращенных клиентов от числа тех уходящих, кто был включен в кампанию\n",
    "    'Возврат клиентов в целом',     # доля возвращенных клиентов от числа тех, кого вообще можно было вернуть и стоило возвращать\n",
    "    'Потери кампании'               # доля впустую потраченных денег в общих затратах на кампанию\n",
    "]\n",
    "\n",
    "campain_effect = pd.DataFrame(index = effect_index)"
   ]
  },
  {
   "cell_type": "code",
   "execution_count": 18,
   "metadata": {},
   "outputs": [],
   "source": [
    "def get_campain_effect(campain, params = model_params):\n",
    "    # прибыль организации за нулевой месяц:\n",
    "    profit_0 = params['number_of_clients'] * params['income_from_client'] - params['capital_cost']\n",
    "    \n",
    "    # размер клиентской базы в первый месяц, если НЕ проводить кампанию по удержанию:\n",
    "    num_client_1_nothing = params['number_of_clients'] * (1 - params['month_churn'] + params['natural_churn'])\n",
    "    # размер клиентской базы в первый месяц, если проводить кампанию по удержанию:\n",
    "    num_client_1_campain = num_client_1_nothing + campain['returned_clients']\n",
    "    \n",
    "    # прибыль организации за первый месяц, если не делать ничего\n",
    "    profit_1_nothing = num_client_1_nothing * params['income_from_client'] - params['capital_cost']\n",
    "    # прибыль организации за первый месяц, если средства на кампанию положить в банк на месяц под процент\n",
    "    profit_1_bank = profit_1_nothing + campain['cost_of_campaign'] * params['bank_month_procent']\n",
    "    # прибыль организации за первый месяц, если проводить кампанию по удержанию\n",
    "    profit_1_campain = num_client_1_campain * params['income_from_client'] - params['capital_cost'] - \\\n",
    "                                                                                    campain['cost_of_campaign']\n",
    "    \n",
    "    return profit_1_campain / profit_1_bank, \\\n",
    "           campain['cost_of_campaign'] / profit_0, \\\n",
    "           campain['returned_clients'] / campain['size_of_campaign'], \\\n",
    "           campain['returned_clients'] / campain['clients_to_churn_for_campain'], \\\n",
    "           campain['losses_of_campaign'] / campain['size_of_campaign']"
   ]
  },
  {
   "cell_type": "code",
   "execution_count": 19,
   "metadata": {},
   "outputs": [
    {
     "data": {
      "text/html": [
       "<div>\n",
       "<style scoped>\n",
       "    .dataframe tbody tr th:only-of-type {\n",
       "        vertical-align: middle;\n",
       "    }\n",
       "\n",
       "    .dataframe tbody tr th {\n",
       "        vertical-align: top;\n",
       "    }\n",
       "\n",
       "    .dataframe thead th {\n",
       "        text-align: right;\n",
       "    }\n",
       "</style>\n",
       "<table border=\"1\" class=\"dataframe\">\n",
       "  <thead>\n",
       "    <tr style=\"text-align: right;\">\n",
       "      <th></th>\n",
       "      <th>Прибыль кампания/банк</th>\n",
       "      <th>Затраты на кампанию</th>\n",
       "      <th>Возврат клиентов по кампании</th>\n",
       "      <th>Возврат клиентов в целом</th>\n",
       "      <th>Потери кампании</th>\n",
       "    </tr>\n",
       "  </thead>\n",
       "  <tbody>\n",
       "    <tr>\n",
       "      <th>Начальные настройки</th>\n",
       "      <td>1.012627</td>\n",
       "      <td>0.008742</td>\n",
       "      <td>0.397049</td>\n",
       "      <td>0.053898</td>\n",
       "      <td>60.283688</td>\n",
       "    </tr>\n",
       "  </tbody>\n",
       "</table>\n",
       "</div>"
      ],
      "text/plain": [
       "                     Прибыль кампания/банк  Затраты на кампанию  \\\n",
       "Начальные настройки               1.012627             0.008742   \n",
       "\n",
       "                     Возврат клиентов по кампании  Возврат клиентов в целом  \\\n",
       "Начальные настройки                      0.397049                  0.053898   \n",
       "\n",
       "                     Потери кампании  \n",
       "Начальные настройки        60.283688  "
      ]
     },
     "execution_count": 19,
     "metadata": {},
     "output_type": "execute_result"
    }
   ],
   "source": [
    "step = 'Начальные настройки'\n",
    "campain_params[step] = get_campain_params()\n",
    "campain_effect[step] = get_campain_effect(campain_params[step])\n",
    "campain_effect.T"
   ]
  },
  {
   "cell_type": "code",
   "execution_count": 20,
   "metadata": {},
   "outputs": [
    {
     "data": {
      "text/html": [
       "<div>\n",
       "<style scoped>\n",
       "    .dataframe tbody tr th:only-of-type {\n",
       "        vertical-align: middle;\n",
       "    }\n",
       "\n",
       "    .dataframe tbody tr th {\n",
       "        vertical-align: top;\n",
       "    }\n",
       "\n",
       "    .dataframe thead th {\n",
       "        text-align: right;\n",
       "    }\n",
       "</style>\n",
       "<table border=\"1\" class=\"dataframe\">\n",
       "  <thead>\n",
       "    <tr style=\"text-align: right;\">\n",
       "      <th></th>\n",
       "      <th>clients_to_churn_for_campain</th>\n",
       "      <th>size_of_campaign</th>\n",
       "      <th>returned_clients</th>\n",
       "      <th>cost_of_campaign</th>\n",
       "      <th>profit_of_campaign</th>\n",
       "      <th>losses_of_campaign</th>\n",
       "    </tr>\n",
       "  </thead>\n",
       "  <tbody>\n",
       "    <tr>\n",
       "      <th>Начальные настройки</th>\n",
       "      <td>64400</td>\n",
       "      <td>8742</td>\n",
       "      <td>3471</td>\n",
       "      <td>874200</td>\n",
       "      <td>861300</td>\n",
       "      <td>527000</td>\n",
       "    </tr>\n",
       "  </tbody>\n",
       "</table>\n",
       "</div>"
      ],
      "text/plain": [
       "                     clients_to_churn_for_campain  size_of_campaign  \\\n",
       "Начальные настройки                         64400              8742   \n",
       "\n",
       "                     returned_clients  cost_of_campaign  profit_of_campaign  \\\n",
       "Начальные настройки              3471            874200              861300   \n",
       "\n",
       "                     losses_of_campaign  \n",
       "Начальные настройки              527000  "
      ]
     },
     "execution_count": 20,
     "metadata": {},
     "output_type": "execute_result"
    }
   ],
   "source": [
    "campain_params.T"
   ]
  },
  {
   "cell_type": "markdown",
   "metadata": {},
   "source": [
    "__Выводы:__\n",
    "\n",
    "При исходных настройках модель: \n",
    "\n",
    "- приносит организации на 1,2% прибыли в месяц больше, чем банковский процент;\n",
    "\n",
    "- снижает скорость оттока на 5%.\n",
    "\n",
    "Эффект слабый, но ненулевой и не отрицательный, что уже хорошо.\n",
    "\n",
    "Слабость подтверждается и абсолютными цифрами - при затратах более 800 тысяч рублей тысяч вернуть удается чуть более 3 тысяч клиентов, при этом полмиллиона расходуется впустую. Однако, не стоит забывать, что значимый вклад в потери дает и отказ клиентов принимать предложение, т.е. только улучшением модели сократить до нуля потери все равно не удастся."
   ]
  },
  {
   "cell_type": "markdown",
   "metadata": {},
   "source": [
    "## Задание 2\n",
    "\n",
    "_Исходя из введенных параметров проанализируйте, какой топ пользователей, склонных к оттоку согласно модели, оптимально выбрать для проведения кампании по удержанию для таким образом, чтобы экономический эффект был наибольшим?_"
   ]
  },
  {
   "cell_type": "markdown",
   "metadata": {},
   "source": [
    "Оптимизировать экономический эффект я буду по критерию относительной прибыли - первый столбец в таблице 'campain_effect'."
   ]
  },
  {
   "cell_type": "code",
   "execution_count": 22,
   "metadata": {},
   "outputs": [],
   "source": [
    "model_params_tmp = model_params.copy()\n",
    "campain_params_tmp = pd.DataFrame(index = param_index)\n",
    "campain_effect_tmp = pd.DataFrame(index = effect_index)\n",
    "\n",
    "for i in range(1, 101):\n",
    "    step = str(i) + '%'\n",
    "    model_params_tmp['fraction_of_clients'] = i / 100.\n",
    "    campain_params_tmp[step] = get_campain_params(model_params_tmp)\n",
    "    campain_effect_tmp[step] = get_campain_effect(campain_params_tmp[step], model_params_tmp)"
   ]
  },
  {
   "cell_type": "code",
   "execution_count": 24,
   "metadata": {},
   "outputs": [
    {
     "data": {
      "image/png": "[encoded data removed]",
      "text/plain": [
       "<Figure size 432x288 with 1 Axes>"
      ]
     },
     "metadata": {},
     "output_type": "display_data"
    }
   ],
   "source": [
    "campain_effect_tmp.T[['Прибыль кампания/банк']].plot();"
   ]
  },
  {
   "cell_type": "code",
   "execution_count": 25,
   "metadata": {},
   "outputs": [
    {
     "data": {
      "image/png": "[encoded data removed]",
      "text/plain": [
       "<Figure size 432x288 with 1 Axes>"
      ]
     },
     "metadata": {},
     "output_type": "display_data"
    }
   ],
   "source": [
    "campain_effect_tmp.T[['Возврат клиентов в целом']].plot();"
   ]
  },
  {
   "cell_type": "markdown",
   "metadata": {},
   "source": [
    "С ростом охвата кампанией уходящих клиентов линейно растет ее эффективность как в терминах дополнительной прибыли (до почти 5%), так и в терминах уменьшения скорости оттока (до более 20%).\n",
    "\n",
    "__Рекомендуется:__ включать в кампанию 100% пользователей из списка, сформированного моделью."
   ]
  },
  {
   "cell_type": "code",
   "execution_count": 26,
   "metadata": {},
   "outputs": [],
   "source": [
    "model_params['fraction_of_clients'] = 1."
   ]
  },
  {
   "cell_type": "code",
   "execution_count": 27,
   "metadata": {},
   "outputs": [
    {
     "data": {
      "text/html": [
       "<div>\n",
       "<style scoped>\n",
       "    .dataframe tbody tr th:only-of-type {\n",
       "        vertical-align: middle;\n",
       "    }\n",
       "\n",
       "    .dataframe tbody tr th {\n",
       "        vertical-align: top;\n",
       "    }\n",
       "\n",
       "    .dataframe thead th {\n",
       "        text-align: right;\n",
       "    }\n",
       "</style>\n",
       "<table border=\"1\" class=\"dataframe\">\n",
       "  <thead>\n",
       "    <tr style=\"text-align: right;\">\n",
       "      <th></th>\n",
       "      <th>Прибыль кампания/банк</th>\n",
       "      <th>Затраты на кампанию</th>\n",
       "      <th>Возврат клиентов по кампании</th>\n",
       "      <th>Возврат клиентов в целом</th>\n",
       "      <th>Потери кампании</th>\n",
       "    </tr>\n",
       "  </thead>\n",
       "  <tbody>\n",
       "    <tr>\n",
       "      <th>Начальные настройки</th>\n",
       "      <td>1.012627</td>\n",
       "      <td>0.008742</td>\n",
       "      <td>0.397049</td>\n",
       "      <td>0.053898</td>\n",
       "      <td>60.283688</td>\n",
       "    </tr>\n",
       "    <tr>\n",
       "      <th>fraction_of_clients = 100%</th>\n",
       "      <td>1.050505</td>\n",
       "      <td>0.034968</td>\n",
       "      <td>0.397077</td>\n",
       "      <td>0.215606</td>\n",
       "      <td>60.289407</td>\n",
       "    </tr>\n",
       "  </tbody>\n",
       "</table>\n",
       "</div>"
      ],
      "text/plain": [
       "                            Прибыль кампания/банк  Затраты на кампанию  \\\n",
       "Начальные настройки                      1.012627             0.008742   \n",
       "fraction_of_clients = 100%               1.050505             0.034968   \n",
       "\n",
       "                            Возврат клиентов по кампании  \\\n",
       "Начальные настройки                             0.397049   \n",
       "fraction_of_clients = 100%                      0.397077   \n",
       "\n",
       "                            Возврат клиентов в целом  Потери кампании  \n",
       "Начальные настройки                         0.053898        60.283688  \n",
       "fraction_of_clients = 100%                  0.215606        60.289407  "
      ]
     },
     "execution_count": 27,
     "metadata": {},
     "output_type": "execute_result"
    }
   ],
   "source": [
    "step = 'fraction_of_clients = 100%'\n",
    "campain_params[step] = get_campain_params()\n",
    "campain_effect[step] = get_campain_effect(campain_params[step])\n",
    "campain_effect.T"
   ]
  },
  {
   "cell_type": "code",
   "execution_count": 28,
   "metadata": {},
   "outputs": [
    {
     "data": {
      "text/html": [
       "<div>\n",
       "<style scoped>\n",
       "    .dataframe tbody tr th:only-of-type {\n",
       "        vertical-align: middle;\n",
       "    }\n",
       "\n",
       "    .dataframe tbody tr th {\n",
       "        vertical-align: top;\n",
       "    }\n",
       "\n",
       "    .dataframe thead th {\n",
       "        text-align: right;\n",
       "    }\n",
       "</style>\n",
       "<table border=\"1\" class=\"dataframe\">\n",
       "  <thead>\n",
       "    <tr style=\"text-align: right;\">\n",
       "      <th></th>\n",
       "      <th>clients_to_churn_for_campain</th>\n",
       "      <th>size_of_campaign</th>\n",
       "      <th>returned_clients</th>\n",
       "      <th>cost_of_campaign</th>\n",
       "      <th>profit_of_campaign</th>\n",
       "      <th>losses_of_campaign</th>\n",
       "    </tr>\n",
       "  </thead>\n",
       "  <tbody>\n",
       "    <tr>\n",
       "      <th>Начальные настройки</th>\n",
       "      <td>64400</td>\n",
       "      <td>8742</td>\n",
       "      <td>3471</td>\n",
       "      <td>874200</td>\n",
       "      <td>861300</td>\n",
       "      <td>527000</td>\n",
       "    </tr>\n",
       "    <tr>\n",
       "      <th>fraction_of_clients = 100%</th>\n",
       "      <td>64400</td>\n",
       "      <td>34968</td>\n",
       "      <td>13885</td>\n",
       "      <td>3496800</td>\n",
       "      <td>3445700</td>\n",
       "      <td>2108200</td>\n",
       "    </tr>\n",
       "  </tbody>\n",
       "</table>\n",
       "</div>"
      ],
      "text/plain": [
       "                            clients_to_churn_for_campain  size_of_campaign  \\\n",
       "Начальные настройки                                64400              8742   \n",
       "fraction_of_clients = 100%                         64400             34968   \n",
       "\n",
       "                            returned_clients  cost_of_campaign  \\\n",
       "Начальные настройки                     3471            874200   \n",
       "fraction_of_clients = 100%             13885           3496800   \n",
       "\n",
       "                            profit_of_campaign  losses_of_campaign  \n",
       "Начальные настройки                     861300              527000  \n",
       "fraction_of_clients = 100%             3445700             2108200  "
      ]
     },
     "execution_count": 28,
     "metadata": {},
     "output_type": "execute_result"
    }
   ],
   "source": [
    "campain_params.T"
   ]
  },
  {
   "cell_type": "markdown",
   "metadata": {},
   "source": [
    "Затраты на кампанию при этом возрастут, однако составят всего 3,5% от прибыли предыдущего месяца или в абсолютном значении 3,5 миллиона. А удержать удастся уже более 13 тысяч клиентов:"
   ]
  },
  {
   "cell_type": "markdown",
   "metadata": {},
   "source": [
    "## Задание 3\n",
    "\n",
    "_Попробуйте усложнить экономическую модель. Добавьте еще несколько параметров и поиграйте с ними (например, измените стоимость удержания и вероятность, с которой пользователь принимает предложение), проанализируйте как меняется оптимальный размер топа?_"
   ]
  },
  {
   "cell_type": "markdown",
   "metadata": {},
   "source": [
    "__Стоимость удержания__"
   ]
  },
  {
   "cell_type": "code",
   "execution_count": 29,
   "metadata": {},
   "outputs": [],
   "source": [
    "model_params_tmp = model_params.copy()\n",
    "campain_params_tmp = pd.DataFrame(index = param_index)\n",
    "campain_effect_tmp = pd.DataFrame(index = effect_index)\n",
    "campain_params_res = pd.DataFrame(index = param_index)\n",
    "campain_effect_res = pd.DataFrame(index = effect_index)\n",
    "top_size = []\n",
    "for i in range(10, model_params_tmp['income_from_client'] + 1):\n",
    "    model_params_tmp['cost_of_withholding'] = i\n",
    "    for j in range(1, 101):\n",
    "        model_params_tmp['fraction_of_clients'] = j / 100.\n",
    "        campain_params_tmp[j] = get_campain_params(model_params_tmp)\n",
    "        campain_effect_tmp[j] = get_campain_effect(campain_params_tmp[j], model_params_tmp)\n",
    "    size = campain_effect_tmp.T['Прибыль кампания/банк'].idxmax()\n",
    "    top_size.append(size)\n",
    "    model_params_tmp['fraction_of_clients'] = size / 100.\n",
    "    step = str(i) + 'р. / ' + str(size) + '%'\n",
    "    campain_params_res[step] = get_campain_params(model_params_tmp)\n",
    "    campain_effect_res[step] = get_campain_effect(campain_params_res[step], model_params_tmp)"
   ]
  },
  {
   "cell_type": "code",
   "execution_count": 30,
   "metadata": {},
   "outputs": [
    {
     "data": {
      "image/png": "[encoded data removed]",
      "text/plain": [
       "<Figure size 432x288 with 1 Axes>"
      ]
     },
     "metadata": {},
     "output_type": "display_data"
    }
   ],
   "source": [
    "campain_effect_res.T[['Прибыль кампания/банк']].plot();"
   ]
  },
  {
   "cell_type": "code",
   "execution_count": 31,
   "metadata": {},
   "outputs": [
    {
     "data": {
      "image/png": "[encoded data removed]",
      "text/plain": [
       "<Figure size 432x288 with 1 Axes>"
      ]
     },
     "metadata": {},
     "output_type": "display_data"
    }
   ],
   "source": [
    "campain_effect_res.T[['Возврат клиентов в целом']].plot();"
   ]
  },
  {
   "cell_type": "code",
   "execution_count": 32,
   "metadata": {},
   "outputs": [
    {
     "name": "stdout",
     "output_type": "stream",
     "text": [
      "197р. / 100% 198р. / 1%\n"
     ]
    }
   ],
   "source": [
    "result = campain_effect_res.T\n",
    "print(result[result['Прибыль кампания/банк'] >= 1]['Прибыль кампания/банк'].idxmin(), \\\n",
    "      result[result['Прибыль кампания/банк'] <= 1]['Прибыль кампания/банк'].idxmax())"
   ]
  },
  {
   "cell_type": "code",
   "execution_count": 33,
   "metadata": {},
   "outputs": [
    {
     "data": {
      "text/html": [
       "<div>\n",
       "<style scoped>\n",
       "    .dataframe tbody tr th:only-of-type {\n",
       "        vertical-align: middle;\n",
       "    }\n",
       "\n",
       "    .dataframe tbody tr th {\n",
       "        vertical-align: top;\n",
       "    }\n",
       "\n",
       "    .dataframe thead th {\n",
       "        text-align: right;\n",
       "    }\n",
       "</style>\n",
       "<table border=\"1\" class=\"dataframe\">\n",
       "  <thead>\n",
       "    <tr style=\"text-align: right;\">\n",
       "      <th></th>\n",
       "      <th>197р. / 100%</th>\n",
       "      <th>198р. / 1%</th>\n",
       "    </tr>\n",
       "  </thead>\n",
       "  <tbody>\n",
       "    <tr>\n",
       "      <th>Прибыль кампания/банк</th>\n",
       "      <td>1.000201</td>\n",
       "      <td>0.999993</td>\n",
       "    </tr>\n",
       "    <tr>\n",
       "      <th>Затраты на кампанию</th>\n",
       "      <td>0.068887</td>\n",
       "      <td>0.000691</td>\n",
       "    </tr>\n",
       "    <tr>\n",
       "      <th>Возврат клиентов по кампании</th>\n",
       "      <td>0.397077</td>\n",
       "      <td>0.395415</td>\n",
       "    </tr>\n",
       "    <tr>\n",
       "      <th>Возврат клиентов в целом</th>\n",
       "      <td>0.215606</td>\n",
       "      <td>0.002143</td>\n",
       "    </tr>\n",
       "    <tr>\n",
       "      <th>Потери кампании</th>\n",
       "      <td>118.770133</td>\n",
       "      <td>118.856734</td>\n",
       "    </tr>\n",
       "  </tbody>\n",
       "</table>\n",
       "</div>"
      ],
      "text/plain": [
       "                              197р. / 100%  198р. / 1%\n",
       "Прибыль кампания/банк             1.000201    0.999993\n",
       "Затраты на кампанию               0.068887    0.000691\n",
       "Возврат клиентов по кампании      0.397077    0.395415\n",
       "Возврат клиентов в целом          0.215606    0.002143\n",
       "Потери кампании                 118.770133  118.856734"
      ]
     },
     "execution_count": 33,
     "metadata": {},
     "output_type": "execute_result"
    }
   ],
   "source": [
    "campain_effect_res.loc[:, '197р. / 100%':'198р. / 1%']"
   ]
  },
  {
   "cell_type": "code",
   "execution_count": 34,
   "metadata": {},
   "outputs": [
    {
     "data": {
      "text/html": [
       "<div>\n",
       "<style scoped>\n",
       "    .dataframe tbody tr th:only-of-type {\n",
       "        vertical-align: middle;\n",
       "    }\n",
       "\n",
       "    .dataframe tbody tr th {\n",
       "        vertical-align: top;\n",
       "    }\n",
       "\n",
       "    .dataframe thead th {\n",
       "        text-align: right;\n",
       "    }\n",
       "</style>\n",
       "<table border=\"1\" class=\"dataframe\">\n",
       "  <thead>\n",
       "    <tr style=\"text-align: right;\">\n",
       "      <th></th>\n",
       "      <th>197р. / 100%</th>\n",
       "      <th>198р. / 1%</th>\n",
       "    </tr>\n",
       "  </thead>\n",
       "  <tbody>\n",
       "    <tr>\n",
       "      <th>clients_to_churn_for_campain</th>\n",
       "      <td>64400</td>\n",
       "      <td>64400</td>\n",
       "    </tr>\n",
       "    <tr>\n",
       "      <th>size_of_campaign</th>\n",
       "      <td>34968</td>\n",
       "      <td>349</td>\n",
       "    </tr>\n",
       "    <tr>\n",
       "      <th>returned_clients</th>\n",
       "      <td>13885</td>\n",
       "      <td>138</td>\n",
       "    </tr>\n",
       "    <tr>\n",
       "      <th>cost_of_campaign</th>\n",
       "      <td>6888696</td>\n",
       "      <td>69102</td>\n",
       "    </tr>\n",
       "    <tr>\n",
       "      <th>profit_of_campaign</th>\n",
       "      <td>53804</td>\n",
       "      <td>-102</td>\n",
       "    </tr>\n",
       "    <tr>\n",
       "      <th>losses_of_campaign</th>\n",
       "      <td>4153154</td>\n",
       "      <td>41481</td>\n",
       "    </tr>\n",
       "  </tbody>\n",
       "</table>\n",
       "</div>"
      ],
      "text/plain": [
       "                              197р. / 100%  198р. / 1%\n",
       "clients_to_churn_for_campain         64400       64400\n",
       "size_of_campaign                     34968         349\n",
       "returned_clients                     13885         138\n",
       "cost_of_campaign                   6888696       69102\n",
       "profit_of_campaign                   53804        -102\n",
       "losses_of_campaign                 4153154       41481"
      ]
     },
     "execution_count": 34,
     "metadata": {},
     "output_type": "execute_result"
    }
   ],
   "source": [
    "campain_params_res.loc[:, '197р. / 100%':'198р. / 1%']"
   ]
  },
  {
   "cell_type": "markdown",
   "metadata": {},
   "source": [
    "Прибыльность кампании с ростом расходов логично уменьшается, в какой-то момент переходя в убытки. \n",
    "\n",
    "Верхняя граница расходов на удержание одного клиента для сохранения доходности кампании составляет 197 р. при 100%-м охвате аудитории кампании. При этом ключевые показатели эффективности меняются не в лучшую сторону (прибыльность меньше, процент возврата такой же), а затраты на компанию многократно выше.\n",
    "\n",
    "__Рекомендуется:__ снижать затраты на удержание клиента настолько, насколько это возможно без снижения доли принятия предложения. Поскольку к модели прогноза это не относится, пока оставлю величину расходов на удержание прежней (100 р.)."
   ]
  },
  {
   "cell_type": "markdown",
   "metadata": {},
   "source": [
    "__Вероятность, с которой пользователь принимает предложение__"
   ]
  },
  {
   "cell_type": "code",
   "execution_count": 35,
   "metadata": {},
   "outputs": [],
   "source": [
    "model_params_tmp = model_params.copy()\n",
    "campain_params_tmp = pd.DataFrame(index = param_index)\n",
    "campain_effect_tmp = pd.DataFrame(index = effect_index)\n",
    "campain_params_res = pd.DataFrame(index = param_index)\n",
    "campain_effect_res = pd.DataFrame(index = effect_index)\n",
    "top_size = []\n",
    "for i in range(1, 101):\n",
    "    model_params_tmp['probability_of_accepting'] = i / 100.\n",
    "    for j in range(1, 101):\n",
    "        model_params_tmp['fraction_of_clients'] = j / 100.\n",
    "        campain_params_tmp[j] = get_campain_params(model_params_tmp)\n",
    "        campain_effect_tmp[j] = get_campain_effect(campain_params_tmp[j], model_params_tmp)\n",
    "    size = campain_effect_tmp.T['Прибыль кампания/банк'].idxmax()\n",
    "    top_size.append(size)\n",
    "    model_params_tmp['fraction_of_clients'] = size / 100.\n",
    "    step = str(i) + '% / ' + str(size) + '%'\n",
    "    campain_params_res[step] = get_campain_params(model_params_tmp)\n",
    "    campain_effect_res[step] = get_campain_effect(campain_params_res[step], model_params_tmp)"
   ]
  },
  {
   "cell_type": "code",
   "execution_count": 36,
   "metadata": {},
   "outputs": [
    {
     "data": {
      "image/png": "[encoded data removed]",
      "text/plain": [
       "<Figure size 432x288 with 1 Axes>"
      ]
     },
     "metadata": {},
     "output_type": "display_data"
    }
   ],
   "source": [
    "campain_effect_res.T[['Прибыль кампания/банк']].plot();"
   ]
  },
  {
   "cell_type": "code",
   "execution_count": 37,
   "metadata": {},
   "outputs": [
    {
     "data": {
      "image/png": "[encoded data removed]",
      "text/plain": [
       "<Figure size 432x288 with 1 Axes>"
      ]
     },
     "metadata": {},
     "output_type": "display_data"
    }
   ],
   "source": [
    "campain_effect_res.T[['Возврат клиентов в целом']].plot();"
   ]
  },
  {
   "cell_type": "code",
   "execution_count": 38,
   "metadata": {},
   "outputs": [
    {
     "name": "stdout",
     "output_type": "stream",
     "text": [
      "25% / 1% 26% / 100%\n"
     ]
    }
   ],
   "source": [
    "result = campain_effect_res.T\n",
    "print(result[result['Прибыль кампания/банк'] <= 1]['Прибыль кампания/банк'].idxmax(), \\\n",
    "      result[result['Прибыль кампания/банк'] >= 1]['Прибыль кампания/банк'].idxmin())"
   ]
  },
  {
   "cell_type": "code",
   "execution_count": 39,
   "metadata": {},
   "outputs": [
    {
     "data": {
      "text/html": [
       "<div>\n",
       "<style scoped>\n",
       "    .dataframe tbody tr th:only-of-type {\n",
       "        vertical-align: middle;\n",
       "    }\n",
       "\n",
       "    .dataframe tbody tr th {\n",
       "        vertical-align: top;\n",
       "    }\n",
       "\n",
       "    .dataframe thead th {\n",
       "        text-align: right;\n",
       "    }\n",
       "</style>\n",
       "<table border=\"1\" class=\"dataframe\">\n",
       "  <thead>\n",
       "    <tr style=\"text-align: right;\">\n",
       "      <th></th>\n",
       "      <th>25% / 1%</th>\n",
       "      <th>26% / 100%</th>\n",
       "    </tr>\n",
       "  </thead>\n",
       "  <tbody>\n",
       "    <tr>\n",
       "      <th>Прибыль кампания/банк</th>\n",
       "      <td>0.999991</td>\n",
       "      <td>1.001368</td>\n",
       "    </tr>\n",
       "    <tr>\n",
       "      <th>Затраты на кампанию</th>\n",
       "      <td>0.000349</td>\n",
       "      <td>0.034968</td>\n",
       "    </tr>\n",
       "    <tr>\n",
       "      <th>Возврат клиентов по кампании</th>\n",
       "      <td>0.197708</td>\n",
       "      <td>0.206474</td>\n",
       "    </tr>\n",
       "    <tr>\n",
       "      <th>Возврат клиентов в целом</th>\n",
       "      <td>0.001071</td>\n",
       "      <td>0.112112</td>\n",
       "    </tr>\n",
       "    <tr>\n",
       "      <th>Потери кампании</th>\n",
       "      <td>79.871060</td>\n",
       "      <td>79.349119</td>\n",
       "    </tr>\n",
       "  </tbody>\n",
       "</table>\n",
       "</div>"
      ],
      "text/plain": [
       "                               25% / 1%  26% / 100%\n",
       "Прибыль кампания/банк          0.999991    1.001368\n",
       "Затраты на кампанию            0.000349    0.034968\n",
       "Возврат клиентов по кампании   0.197708    0.206474\n",
       "Возврат клиентов в целом       0.001071    0.112112\n",
       "Потери кампании               79.871060   79.349119"
      ]
     },
     "execution_count": 39,
     "metadata": {},
     "output_type": "execute_result"
    }
   ],
   "source": [
    "campain_effect_res.loc[:, '25% / 1%':'26% / 100%']"
   ]
  },
  {
   "cell_type": "code",
   "execution_count": 40,
   "metadata": {},
   "outputs": [
    {
     "data": {
      "text/html": [
       "<div>\n",
       "<style scoped>\n",
       "    .dataframe tbody tr th:only-of-type {\n",
       "        vertical-align: middle;\n",
       "    }\n",
       "\n",
       "    .dataframe tbody tr th {\n",
       "        vertical-align: top;\n",
       "    }\n",
       "\n",
       "    .dataframe thead th {\n",
       "        text-align: right;\n",
       "    }\n",
       "</style>\n",
       "<table border=\"1\" class=\"dataframe\">\n",
       "  <thead>\n",
       "    <tr style=\"text-align: right;\">\n",
       "      <th></th>\n",
       "      <th>25% / 1%</th>\n",
       "      <th>26% / 100%</th>\n",
       "    </tr>\n",
       "  </thead>\n",
       "  <tbody>\n",
       "    <tr>\n",
       "      <th>clients_to_churn_for_campain</th>\n",
       "      <td>64400</td>\n",
       "      <td>64400</td>\n",
       "    </tr>\n",
       "    <tr>\n",
       "      <th>size_of_campaign</th>\n",
       "      <td>349</td>\n",
       "      <td>34968</td>\n",
       "    </tr>\n",
       "    <tr>\n",
       "      <th>returned_clients</th>\n",
       "      <td>69</td>\n",
       "      <td>7220</td>\n",
       "    </tr>\n",
       "    <tr>\n",
       "      <th>cost_of_campaign</th>\n",
       "      <td>34900</td>\n",
       "      <td>3496800</td>\n",
       "    </tr>\n",
       "    <tr>\n",
       "      <th>profit_of_campaign</th>\n",
       "      <td>-400</td>\n",
       "      <td>113200</td>\n",
       "    </tr>\n",
       "    <tr>\n",
       "      <th>losses_of_campaign</th>\n",
       "      <td>27875</td>\n",
       "      <td>2774680</td>\n",
       "    </tr>\n",
       "  </tbody>\n",
       "</table>\n",
       "</div>"
      ],
      "text/plain": [
       "                              25% / 1%  26% / 100%\n",
       "clients_to_churn_for_campain     64400       64400\n",
       "size_of_campaign                   349       34968\n",
       "returned_clients                    69        7220\n",
       "cost_of_campaign                 34900     3496800\n",
       "profit_of_campaign                -400      113200\n",
       "losses_of_campaign               27875     2774680"
      ]
     },
     "execution_count": 40,
     "metadata": {},
     "output_type": "execute_result"
    }
   ],
   "source": [
    "campain_params_res.loc[:, '25% / 1%':'26% / 100%']"
   ]
  },
  {
   "cell_type": "markdown",
   "metadata": {},
   "source": [
    "С ростом вероятности принятия клиентом предложения логично возрастает и прибыльность, и доля возврата. Но есть нижняя граница вероятности, меньше которой кампания будет убыточной - 26% при расходах на удержание в 100 р. При других расходах нижняя граница изменится (и наоборот), поэтому ее каждый раз нужно оценивать заново исходя из планируемых (и заранее оцененных) инструментов удержания."
   ]
  },
  {
   "cell_type": "markdown",
   "metadata": {},
   "source": [
    "__Стоимость удержания и вероятность принятия предложения__"
   ]
  },
  {
   "cell_type": "code",
   "execution_count": 41,
   "metadata": {},
   "outputs": [],
   "source": [
    "model_params_tmp = model_params.copy()\n",
    "campain_params_frac = pd.DataFrame(index = param_index)\n",
    "campain_effect_frac = pd.DataFrame(index = effect_index)\n",
    "campain_params_res = pd.DataFrame(index = param_index)\n",
    "campain_effect_res = pd.DataFrame(index = effect_index)\n",
    "profit = np.zeros((model_params_tmp['income_from_client'] - 9, 100))\n",
    "top_size = []\n",
    "for cost in range(10, model_params_tmp['income_from_client'] + 1):\n",
    "    model_params_tmp['cost_of_withholding'] = cost\n",
    "    for prob in range(1, 101):\n",
    "        model_params_tmp['probability_of_accepting'] = prob / 100.\n",
    "        for frac in range(1, 101):\n",
    "            model_params_tmp['fraction_of_clients'] = frac / 100.\n",
    "            campain_params_frac[j] = get_campain_params(model_params_tmp)\n",
    "            campain_effect_frac[j] = get_campain_effect(campain_params_frac[j], model_params_tmp)\n",
    "        size = campain_effect_frac.T['Прибыль кампания/банк'].idxmax()\n",
    "        top_size.append(size)\n",
    "        model_params_tmp['fraction_of_clients'] = size / 100.\n",
    "        step = str(cost) + 'p : ' + str(prob) + '% : ' + str(size) + '%'\n",
    "        campain_params_res[step] = get_campain_params(model_params_tmp)\n",
    "        campain_effect_res[step] = get_campain_effect(campain_params_res[step], model_params_tmp)\n",
    "        profit[cost - 10, prob - 1] = campain_effect_res[step].T['Прибыль кампания/банк']"
   ]
  },
  {
   "cell_type": "code",
   "execution_count": 42,
   "metadata": {},
   "outputs": [],
   "source": [
    "threshold_from_probability = []\n",
    "for i in range(100):\n",
    "    res = profit[:, i]\n",
    "    more = res[res >= 1]\n",
    "    threshold_from_probability.append(np.where(res == more[-1])[0][0] if len(more) > 0 else -1)"
   ]
  },
  {
   "cell_type": "code",
   "execution_count": 43,
   "metadata": {},
   "outputs": [
    {
     "data": {
      "image/png": "[encoded data removed]",
      "text/plain": [
       "<Figure size 432x288 with 1 Axes>"
      ]
     },
     "metadata": {},
     "output_type": "display_data"
    }
   ],
   "source": [
    "plt.plot(threshold_from_probability);"
   ]
  },
  {
   "cell_type": "markdown",
   "metadata": {},
   "source": [
    "Зависимость ожидаемо линейная. Можно посмотреть на разные цифры:"
   ]
  },
  {
   "cell_type": "code",
   "execution_count": 44,
   "metadata": {},
   "outputs": [
    {
     "name": "stdout",
     "output_type": "stream",
     "text": [
      "При вероятности принятия предложения в 5% максимально допустимые расходы на удержание 1 клиента составят 13 р.\n"
     ]
    }
   ],
   "source": [
    "prob = 5\n",
    "print('При вероятности принятия предложения в {0}% максимально допустимые расходы на удержание 1 клиента составят {1} р.'\\\n",
    "                                                                      .format(prob, threshold_from_probability[prob]))"
   ]
  },
  {
   "cell_type": "code",
   "execution_count": 45,
   "metadata": {},
   "outputs": [
    {
     "name": "stdout",
     "output_type": "stream",
     "text": [
      "При вероятности принятия предложения в 25% максимально допустимые расходы на удержание 1 клиента составят 92 р.\n"
     ]
    }
   ],
   "source": [
    "prob = 25\n",
    "print('При вероятности принятия предложения в {0}% максимально допустимые расходы на удержание 1 клиента составят {1} р.'\\\n",
    "                                                                      .format(prob, threshold_from_probability[prob]))"
   ]
  },
  {
   "cell_type": "code",
   "execution_count": 46,
   "metadata": {},
   "outputs": [
    {
     "name": "stdout",
     "output_type": "stream",
     "text": [
      "При вероятности принятия предложения в 50% максимально допустимые расходы на удержание 1 клиента составят 191 р.\n"
     ]
    }
   ],
   "source": [
    "prob = 50\n",
    "print('При вероятности принятия предложения в {0}% максимально допустимые расходы на удержание 1 клиента составят {1} р.'\\\n",
    "                                                                      .format(prob, threshold_from_probability[prob]))"
   ]
  },
  {
   "cell_type": "code",
   "execution_count": 47,
   "metadata": {},
   "outputs": [
    {
     "name": "stdout",
     "output_type": "stream",
     "text": [
      "При вероятности принятия предложения в 75% максимально допустимые расходы на удержание 1 клиента составят 290 р.\n"
     ]
    }
   ],
   "source": [
    "prob = 75\n",
    "print('При вероятности принятия предложения в {0}% максимально допустимые расходы на удержание 1 клиента составят {1} р.'\\\n",
    "                                                                      .format(prob, threshold_from_probability[prob]))"
   ]
  },
  {
   "cell_type": "markdown",
   "metadata": {},
   "source": [
    "## Задание 4\n",
    "\n",
    "_Всегда ли применение модели экономически оправданно? Приведите пример набора значений параметров, при которых применение модели перестает быть оправданным._"
   ]
  },
  {
   "cell_type": "markdown",
   "metadata": {},
   "source": [
    "Выше были приведены примеры, когда применение модели ведет к убыткам, например, расходы на удержание 1 клиента больше 13 р. при вероятности принятия предложения 5% и т.п."
   ]
  },
  {
   "cell_type": "markdown",
   "metadata": {},
   "source": [
    "## Задание 5\n",
    "\n",
    "_Оцените изменение экономического эффекта от проведения кампании по удержанию при увеличении качества модели на 1%? На 3%? При ответе на вопрос укажите, по какой метрике вы оцениваете качество._"
   ]
  },
  {
   "cell_type": "markdown",
   "metadata": {},
   "source": [
    "Предполагаю, что речь идет об увеличении оценки по метрике полноты по классу оттока:"
   ]
  },
  {
   "cell_type": "code",
   "execution_count": 50,
   "metadata": {},
   "outputs": [],
   "source": [
    "model_params_tmp = model_params.copy()\n",
    "campain_params_tmp = pd.DataFrame(index = param_index)\n",
    "campain_effect_tmp = pd.DataFrame(index = effect_index)\n",
    "\n",
    "step = 'recall = 48%'\n",
    "model_params_tmp['recall_churn'] = model_params['recall_churn']\n",
    "campain_params_tmp[step] = get_campain_params(model_params_tmp)\n",
    "campain_effect_tmp[step] = get_campain_effect(campain_params_tmp[step], model_params_tmp)\n",
    "\n",
    "step = 'recall = 49%'\n",
    "model_params_tmp['recall_churn'] = model_params['recall_churn'] + .01\n",
    "campain_params_tmp[step] = get_campain_params(model_params_tmp)\n",
    "campain_effect_tmp[step] = get_campain_effect(campain_params_tmp[step], model_params_tmp)\n",
    "\n",
    "step = 'recall = 51%'\n",
    "model_params_tmp['recall_churn'] = model_params['recall_churn'] + .03\n",
    "campain_params_tmp[step] = get_campain_params(model_params_tmp)\n",
    "campain_effect_tmp[step] = get_campain_effect(campain_params_tmp[step], model_params_tmp)\n",
    "\n",
    "step = 'recall = 100%'\n",
    "model_params_tmp['recall_churn'] = model_params['recall_churn'] + .52\n",
    "campain_params_tmp[step] = get_campain_params(model_params_tmp)\n",
    "campain_effect_tmp[step] = get_campain_effect(campain_params_tmp[step], model_params_tmp)"
   ]
  },
  {
   "cell_type": "code",
   "execution_count": 51,
   "metadata": {},
   "outputs": [
    {
     "data": {
      "text/html": [
       "<div>\n",
       "<style scoped>\n",
       "    .dataframe tbody tr th:only-of-type {\n",
       "        vertical-align: middle;\n",
       "    }\n",
       "\n",
       "    .dataframe tbody tr th {\n",
       "        vertical-align: top;\n",
       "    }\n",
       "\n",
       "    .dataframe thead th {\n",
       "        text-align: right;\n",
       "    }\n",
       "</style>\n",
       "<table border=\"1\" class=\"dataframe\">\n",
       "  <thead>\n",
       "    <tr style=\"text-align: right;\">\n",
       "      <th></th>\n",
       "      <th>Прибыль кампания/банк</th>\n",
       "      <th>Затраты на кампанию</th>\n",
       "      <th>Возврат клиентов по кампании</th>\n",
       "      <th>Возврат клиентов в целом</th>\n",
       "      <th>Потери кампании</th>\n",
       "    </tr>\n",
       "  </thead>\n",
       "  <tbody>\n",
       "    <tr>\n",
       "      <th>recall = 48%</th>\n",
       "      <td>1.050505</td>\n",
       "      <td>0.034968</td>\n",
       "      <td>0.397077</td>\n",
       "      <td>0.215606</td>\n",
       "      <td>60.289407</td>\n",
       "    </tr>\n",
       "    <tr>\n",
       "      <th>recall = 49%</th>\n",
       "      <td>1.052019</td>\n",
       "      <td>0.035712</td>\n",
       "      <td>0.398746</td>\n",
       "      <td>0.221118</td>\n",
       "      <td>60.122648</td>\n",
       "    </tr>\n",
       "    <tr>\n",
       "      <th>recall = 51%</th>\n",
       "      <td>1.055061</td>\n",
       "      <td>0.037200</td>\n",
       "      <td>0.401935</td>\n",
       "      <td>0.232174</td>\n",
       "      <td>59.802419</td>\n",
       "    </tr>\n",
       "    <tr>\n",
       "      <th>recall = 100%</th>\n",
       "      <td>1.132187</td>\n",
       "      <td>0.073656</td>\n",
       "      <td>0.444675</td>\n",
       "      <td>0.508587</td>\n",
       "      <td>55.531118</td>\n",
       "    </tr>\n",
       "  </tbody>\n",
       "</table>\n",
       "</div>"
      ],
      "text/plain": [
       "               Прибыль кампания/банк  Затраты на кампанию  \\\n",
       "recall = 48%                1.050505             0.034968   \n",
       "recall = 49%                1.052019             0.035712   \n",
       "recall = 51%                1.055061             0.037200   \n",
       "recall = 100%               1.132187             0.073656   \n",
       "\n",
       "               Возврат клиентов по кампании  Возврат клиентов в целом  \\\n",
       "recall = 48%                       0.397077                  0.215606   \n",
       "recall = 49%                       0.398746                  0.221118   \n",
       "recall = 51%                       0.401935                  0.232174   \n",
       "recall = 100%                      0.444675                  0.508587   \n",
       "\n",
       "               Потери кампании  \n",
       "recall = 48%         60.289407  \n",
       "recall = 49%         60.122648  \n",
       "recall = 51%         59.802419  \n",
       "recall = 100%        55.531118  "
      ]
     },
     "execution_count": 51,
     "metadata": {},
     "output_type": "execute_result"
    }
   ],
   "source": [
    "campain_effect_tmp.T"
   ]
  },
  {
   "cell_type": "markdown",
   "metadata": {},
   "source": [
    "Увеличение прибыльности кампании составляет примерно 0.15% на каждый добавленный процент полноты. Скорость сокращения оттока на тот же процент полноты уменьшается на 0.5%.\n",
    "\n",
    "Если удастся довести полноту до 100%, то прибыльность кампании возрастет до 13%, а скорость оттока упадет почти вдвое, что очень и очень много. Не забываем, что оставшаяся половина оттока - это потери по непринятию предложения (расчеты ведутся при вероятности 50%)."
   ]
  },
  {
   "cell_type": "markdown",
   "metadata": {},
   "source": [
    "Посмотрим, как изменится картина, если удастся увеличить при этом и точность до 100%:"
   ]
  },
  {
   "cell_type": "code",
   "execution_count": 52,
   "metadata": {},
   "outputs": [],
   "source": [
    "model_params_tmp = model_params.copy()\n",
    "model_params_tmp['precision_churn'] = 1\n",
    "campain_params_tmp = pd.DataFrame(index = param_index)\n",
    "campain_effect_tmp = pd.DataFrame(index = effect_index)\n",
    "\n",
    "step = 'recall = 48%'\n",
    "model_params_tmp['recall_churn'] = model_params['recall_churn']\n",
    "campain_params_tmp[step] = get_campain_params(model_params_tmp)\n",
    "campain_effect_tmp[step] = get_campain_effect(campain_params_tmp[step], model_params_tmp)\n",
    "\n",
    "step = 'recall = 49%'\n",
    "model_params_tmp['recall_churn'] = model_params['recall_churn'] + .01\n",
    "campain_params_tmp[step] = get_campain_params(model_params_tmp)\n",
    "campain_effect_tmp[step] = get_campain_effect(campain_params_tmp[step], model_params_tmp)\n",
    "\n",
    "step = 'recall = 51%'\n",
    "model_params_tmp['recall_churn'] = model_params['recall_churn'] + .03\n",
    "campain_params_tmp[step] = get_campain_params(model_params_tmp)\n",
    "campain_effect_tmp[step] = get_campain_effect(campain_params_tmp[step], model_params_tmp)\n",
    "\n",
    "step = 'recall = 100%'\n",
    "model_params_tmp['recall_churn'] = model_params['recall_churn'] + .52\n",
    "campain_params_tmp[step] = get_campain_params(model_params_tmp)\n",
    "campain_effect_tmp[step] = get_campain_effect(campain_params_tmp[step], model_params_tmp)"
   ]
  },
  {
   "cell_type": "code",
   "execution_count": 53,
   "metadata": {},
   "outputs": [
    {
     "data": {
      "text/html": [
       "<div>\n",
       "<style scoped>\n",
       "    .dataframe tbody tr th:only-of-type {\n",
       "        vertical-align: middle;\n",
       "    }\n",
       "\n",
       "    .dataframe tbody tr th {\n",
       "        vertical-align: top;\n",
       "    }\n",
       "\n",
       "    .dataframe thead th {\n",
       "        text-align: right;\n",
       "    }\n",
       "</style>\n",
       "<table border=\"1\" class=\"dataframe\">\n",
       "  <thead>\n",
       "    <tr style=\"text-align: right;\">\n",
       "      <th></th>\n",
       "      <th>Прибыль кампания/банк</th>\n",
       "      <th>Затраты на кампанию</th>\n",
       "      <th>Возврат клиентов по кампании</th>\n",
       "      <th>Возврат клиентов в целом</th>\n",
       "      <th>Потери кампании</th>\n",
       "    </tr>\n",
       "  </thead>\n",
       "  <tbody>\n",
       "    <tr>\n",
       "      <th>recall = 48%</th>\n",
       "      <td>1.056651</td>\n",
       "      <td>0.025712</td>\n",
       "      <td>0.5</td>\n",
       "      <td>0.199627</td>\n",
       "      <td>50.0</td>\n",
       "    </tr>\n",
       "    <tr>\n",
       "      <th>recall = 49%</th>\n",
       "      <td>1.058290</td>\n",
       "      <td>0.026456</td>\n",
       "      <td>0.5</td>\n",
       "      <td>0.205404</td>\n",
       "      <td>50.0</td>\n",
       "    </tr>\n",
       "    <tr>\n",
       "      <th>recall = 51%</th>\n",
       "      <td>1.061568</td>\n",
       "      <td>0.027944</td>\n",
       "      <td>0.5</td>\n",
       "      <td>0.216957</td>\n",
       "      <td>50.0</td>\n",
       "    </tr>\n",
       "    <tr>\n",
       "      <th>recall = 100%</th>\n",
       "      <td>1.141845</td>\n",
       "      <td>0.064400</td>\n",
       "      <td>0.5</td>\n",
       "      <td>0.500000</td>\n",
       "      <td>50.0</td>\n",
       "    </tr>\n",
       "  </tbody>\n",
       "</table>\n",
       "</div>"
      ],
      "text/plain": [
       "               Прибыль кампания/банк  Затраты на кампанию  \\\n",
       "recall = 48%                1.056651             0.025712   \n",
       "recall = 49%                1.058290             0.026456   \n",
       "recall = 51%                1.061568             0.027944   \n",
       "recall = 100%               1.141845             0.064400   \n",
       "\n",
       "               Возврат клиентов по кампании  Возврат клиентов в целом  \\\n",
       "recall = 48%                            0.5                  0.199627   \n",
       "recall = 49%                            0.5                  0.205404   \n",
       "recall = 51%                            0.5                  0.216957   \n",
       "recall = 100%                           0.5                  0.500000   \n",
       "\n",
       "               Потери кампании  \n",
       "recall = 48%              50.0  \n",
       "recall = 49%              50.0  \n",
       "recall = 51%              50.0  \n",
       "recall = 100%             50.0  "
      ]
     },
     "execution_count": 53,
     "metadata": {},
     "output_type": "execute_result"
    }
   ],
   "source": [
    "campain_effect_tmp.T"
   ]
  },
  {
   "cell_type": "markdown",
   "metadata": {},
   "source": [
    "Дополнительный процент точности даже при той же полноте увеличит прибыльность на 0.9%, что в 6 раз больше, чем \"цена\" процента полноты:"
   ]
  },
  {
   "cell_type": "markdown",
   "metadata": {},
   "source": [
    "Максимальная (дополнительная!) прибыльность, которую можно достичь моделью при идеальных точности и полноте и остальных базовых параметрах составляет 14%. При других параметрах (расходах на удержание, вероятности принятия предложения и т.п.) эта цифра будет другой."
   ]
  },
  {
   "cell_type": "markdown",
   "metadata": {},
   "source": [
    "## Задание 6\n",
    "\n",
    "_Как вы думаете, является ли экономически оправданным вложение средств в улучшение качества модели? На сколько нужно улучшить модель, чтобы это качественно сказалось на экономическом эффекте от удержания?_"
   ]
  },
  {
   "cell_type": "markdown",
   "metadata": {},
   "source": [
    "По сути, на этот вопрос я уже ответила в предыдущем задании. Формулировка \"качественно сказалось на экономическом эффекте от удержания\" слишком тесто связана с реальным бизнесом, чтобы ее оценить сейчас. Для одной организации значимым будет эффект в 1%, а для другой и 10% покажется мало.\n",
    "\n",
    "На самом деле, для проведения адекватного анализа нужны не только реальные бизнес-показатели, которые я в самом начале взяла с потолка, но и (повторюсь) горизонт анализа минимум в квартал, а лучше в 6 месяцев. \n",
    "\n",
    "Для диплома вполне достаточно показать подход к проведению анализа и общую оценку модели - она слабая, но все же не бесполезная. Улучшать ее смысл есть и есть куда. Если будет поставлена такая задача, то алгоритм действий:\n",
    "\n",
    "- улучшить точность до 100%,\n",
    "\n",
    "- с сохранением такой точности максимально увеличивать полноту."
   ]
  },
  {
   "cell_type": "code",
   "execution_count": null,
   "metadata": {},
   "outputs": [],
   "source": []
  }
 ],
 "metadata": {
  "kernelspec": {
   "display_name": "Python 3",
   "language": "python",
   "name": "python3"
  },
  "language_info": {
   "codemirror_mode": {
    "name": "ipython",
    "version": 3
   },
   "file_extension": ".py",
   "mimetype": "text/x-python",
   "name": "python",
   "nbconvert_exporter": "python",
   "pygments_lexer": "ipython3",
   "version": "3.6.5"
  }
 },
 "nbformat": 4,
 "nbformat_minor": 2
}
